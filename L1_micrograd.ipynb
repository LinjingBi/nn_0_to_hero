{
  "nbformat": 4,
  "nbformat_minor": 0,
  "metadata": {
    "colab": {
      "provenance": [],
      "authorship_tag": "ABX9TyMXO/7E2HPH13jXZKn4jz3f",
      "include_colab_link": true
    },
    "kernelspec": {
      "name": "python3",
      "display_name": "Python 3"
    },
    "language_info": {
      "name": "python"
    }
  },
  "cells": [
    {
      "cell_type": "markdown",
      "metadata": {
        "id": "view-in-github",
        "colab_type": "text"
      },
      "source": [
        "<a href=\"https://colab.research.google.com/github/LinjingBi/practice-nn-0-to-hero/blob/master/L1_micrograd.ipynb\" target=\"_parent\"><img src=\"https://colab.research.google.com/assets/colab-badge.svg\" alt=\"Open In Colab\"/></a>"
      ]
    },
    {
      "cell_type": "markdown",
      "source": [
        "Value class is a scalar class - 0 D tensor."
      ],
      "metadata": {
        "id": "v_WdNgouGQzc"
      }
    },
    {
      "cell_type": "code",
      "source": [
        "import numpy as np\n",
        "import math\n",
        "import matplotlib.pyplot as plt\n",
        "\n",
        "class Value:\n",
        "    def __init__(self, data, _children=set(), _op='', label=''):\n",
        "      self.data = data\n",
        "      self._prev = set(_children) # has to be set to revent cases like b=a+a\n",
        "      self._op = _op\n",
        "      self.label = label\n",
        "      self.grad = 0.0\n",
        "      self._backward = lambda: None\n",
        "\n",
        "    def __repr__(self):\n",
        "      return f\"Value(data={self.data}, label={self.label})\"\n",
        "    def __add__(self, other):\n",
        "      other = other if isinstance(other, Value) else Value(other)  # support other as an integer\n",
        "      out = Value(self.data + other.data, (other, self), '+')\n",
        "      def _backward():\n",
        "        self.grad += 1.0 * out.grad\n",
        "        other.grad += 1.0 * out.grad\n",
        "      out._backward = _backward\n",
        "      return out\n",
        "    def __mul__(self, other):\n",
        "      other = other if isinstance(other, Value) else Value(other) # support other as an integer\n",
        "      out = Value(self.data * other.data, (other, self), '*')\n",
        "      def _backward():\n",
        "        self.grad += other.data * out.grad\n",
        "        other.grad += self.data * out.grad\n",
        "      out._backward = _backward\n",
        "      return out\n",
        "    def tanh(self):\n",
        "      x = self.data\n",
        "      t = (math.exp(2*x) - 1)/(math.exp(2*x) + 1)\n",
        "      out = Value(t, (self,), _op='tanh')\n",
        "      def _backward():\n",
        "        self.grad += (1 - t**2)*out.grad\n",
        "      out._backward = _backward\n",
        "      return out\n",
        "    def exp(self):\n",
        "      out = Value(math.exp(self.data),(self, ), _op='exp')\n",
        "\n",
        "      def _backward():\n",
        "        self.grad += out.data*out.grad\n",
        "\n",
        "      out._backward = _backward\n",
        "      return out\n",
        "\n",
        "    def __sub__(self, other): # self - other, in such case, otehr can be an integer, instead a Value obj\n",
        "      return self + (-other)\n",
        "\n",
        "    def __neg__(self):\n",
        "      # return (-1) * self\n",
        "      return self * (-1)\n",
        "\n",
        "    def __rmul__(self, other):  # other * self, in such case, otehr can be an integer, instead a Value obj\n",
        "      return self * other\n",
        "\n",
        "    def __radd__(self, other):  # other + self, in such case, otehr can be an integer, instead a Value obj\n",
        "      return self + other\n",
        "\n",
        "    def __pow__(self, other):\n",
        "      # why Integer other, not Value other?\n",
        "      # it is only for simplicity, because if the power is a Value, _backward(derivative) is going to include self.grad and other.grad f.e.\n",
        "      # self.grad = other.data * (self.data ** (other.data - 1)), not much different.\n",
        "      # other.grad = (self.data ** other.data) * ln(other.data), since other is a Value, we also need to upgrade its grad in _backward.\n",
        "      assert isinstance(other, (int, float)), \"only support int/float power\"\n",
        "      out = Value(self.data ** other, (self,), _op=f'** {other}')\n",
        "\n",
        "      def _backward():\n",
        "        self.grad += other * (self.data ** (other - 1)) * out.grad\n",
        "      out._backward = _backward\n",
        "\n",
        "      return out\n",
        "\n",
        "    def __truediv__(self, other):\n",
        "      return self * (other ** -1)\n",
        "\n",
        "    def backward(self):\n",
        "      # backward gradient\n",
        "      visited = set()\n",
        "      child = []\n",
        "      # collect child points\n",
        "      def find_topo(v):\n",
        "        if v not in visited:\n",
        "          visited.add(v)\n",
        "          for nxt in v._prev:\n",
        "            find_topo(nxt)\n",
        "          child.append(v)\n",
        "\n",
        "      find_topo(self)\n",
        "\n",
        "      self.grad = 1.0  # !!!don't forget to init grad to 1\n",
        "      for c in child[::-1]:\n",
        "        c._backward()\n",
        "\n",
        "\n"
      ],
      "metadata": {
        "id": "uznqt_WRGkxK"
      },
      "execution_count": 84,
      "outputs": []
    },
    {
      "cell_type": "markdown",
      "source": [
        "Function for drawing dataflow between Values"
      ],
      "metadata": {
        "id": "bLM0-KjzGnK9"
      }
    },
    {
      "cell_type": "code",
      "source": [
        "from graphviz import Digraph\n",
        "\n",
        "def trace(root):\n",
        "    nodes, edges = set(), set()\n",
        "    def build(n):\n",
        "        if n not in nodes:\n",
        "            nodes.add(n)\n",
        "            for child in n._prev:\n",
        "                edges.add((child, n))\n",
        "                build(child)\n",
        "    build(root)\n",
        "    return nodes, edges\n",
        "\n",
        "def draw_dot(node):\n",
        "    dot = Digraph(format='svg', graph_attr={'rankdir': 'LR'})\n",
        "\n",
        "    nodes, edges = trace(node)\n",
        "    for n in nodes:\n",
        "        uid = str(id(n))\n",
        "        dot.node(name = uid, label = '{ %s | Data %.4f | Grad %.4f }' % (n.label, n.data, n.grad), shape='record')\n",
        "        if n._op:\n",
        "            dot.node(name=uid+n._op, label=f'{n._op}')\n",
        "            dot.edge(uid+n._op, uid)\n",
        "    for e_l, e_r in edges:\n",
        "        dot.edge(str(id(e_l)), str(id(e_r))+e_r._op)\n",
        "    return dot"
      ],
      "metadata": {
        "id": "FFRUWPKDGpj4"
      },
      "execution_count": 85,
      "outputs": []
    },
    {
      "cell_type": "markdown",
      "source": [
        "Build forward dataflow and also calculate backward gradients."
      ],
      "metadata": {
        "id": "hfTO9zUOGu0c"
      }
    },
    {
      "cell_type": "code",
      "source": [
        "# mini neural network\n",
        "\"\"\"\n",
        "x1 ->|\n",
        "     |X1W1+X2W2+b| -> tanh -> out\n",
        "x2 ->|\n",
        "\n",
        "\"\"\"\n",
        "x1 = Value(data=2, label='x1')\n",
        "w1 = Value(data=-3, label='w1')\n",
        "x2 = Value(data=0, label='x2')\n",
        "w2 = Value(data=1, label='w2')\n",
        "\n",
        "x1xw1 = x1*w1; x1xw1.label = 'x1*w1'\n",
        "x2xw2 = x2*w2; x2xw2.label = 'x2*w2'\n",
        "\n",
        "j = x1xw1 + x2xw2; j.label = 'x1*w1 + x2*w2'\n",
        "\n",
        "b = Value(data=6.8813735870195432, label='b')\n",
        "h = j + b; h.label = 'h'\n",
        "\n",
        "# use Value.tanh directly\n",
        "# o = h.tanh(); o.label = 'o'; o.grad = 1.0\n",
        "# o.data is 0.7071\n",
        "\n",
        "# construct tanh manually\n",
        "o = ((2*h).exp() - 1) / ((2*h).exp() + 1); o.lable = 'o'; o.grad = 1.0\n",
        "o.backward()"
      ],
      "metadata": {
        "id": "-FsIPVCWOv85"
      },
      "execution_count": 86,
      "outputs": []
    },
    {
      "cell_type": "code",
      "source": [
        "draw_dot(o)"
      ],
      "metadata": {
        "colab": {
          "base_uri": "https://localhost:8080/",
          "height": 390
        },
        "id": "kk4iqILbqaN7",
        "outputId": "1d9acaee-1786-4b63-c3ef-0a0c0fa3699d"
      },
      "execution_count": 87,
      "outputs": [
        {
          "output_type": "execute_result",
          "data": {
            "image/svg+xml": "<?xml version=\"1.0\" encoding=\"UTF-8\" standalone=\"no\"?>\n<!DOCTYPE svg PUBLIC \"-//W3C//DTD SVG 1.1//EN\"\n \"http://www.w3.org/Graphics/SVG/1.1/DTD/svg11.dtd\">\n<!-- Generated by graphviz version 2.43.0 (0)\n -->\n<!-- Title: %3 Pages: 1 -->\n<svg width=\"3006pt\" height=\"262pt\"\n viewBox=\"0.00 0.00 3006.00 262.00\" xmlns=\"http://www.w3.org/2000/svg\" xmlns:xlink=\"http://www.w3.org/1999/xlink\">\n<g id=\"graph0\" class=\"graph\" transform=\"scale(1 1) rotate(0) translate(4 258)\">\n<title>%3</title>\n<polygon fill=\"white\" stroke=\"transparent\" points=\"-4,4 -4,-258 3002,-258 3002,4 -4,4\"/>\n<!-- 140710486501424 -->\n<g id=\"node1\" class=\"node\">\n<title>140710486501424</title>\n<polygon fill=\"none\" stroke=\"black\" points=\"1091,-163.5 1091,-199.5 1279,-199.5 1279,-163.5 1091,-163.5\"/>\n<text text-anchor=\"middle\" x=\"1101\" y=\"-177.8\" font-family=\"Times,serif\" font-size=\"14.00\"> </text>\n<polyline fill=\"none\" stroke=\"black\" points=\"1111,-163.5 1111,-199.5 \"/>\n<text text-anchor=\"middle\" x=\"1152.5\" y=\"-177.8\" font-family=\"Times,serif\" font-size=\"14.00\">Data 2.0000</text>\n<polyline fill=\"none\" stroke=\"black\" points=\"1194,-163.5 1194,-199.5 \"/>\n<text text-anchor=\"middle\" x=\"1236.5\" y=\"-177.8\" font-family=\"Times,serif\" font-size=\"14.00\">Grad 0.7523</text>\n</g>\n<!-- 140710486504544* -->\n<g id=\"node11\" class=\"node\">\n<title>140710486504544*</title>\n<ellipse fill=\"none\" stroke=\"black\" cx=\"1344\" cy=\"-181.5\" rx=\"27\" ry=\"18\"/>\n<text text-anchor=\"middle\" x=\"1344\" y=\"-177.8\" font-family=\"Times,serif\" font-size=\"14.00\">*</text>\n</g>\n<!-- 140710486501424&#45;&gt;140710486504544* -->\n<g id=\"edge20\" class=\"edge\">\n<title>140710486501424&#45;&gt;140710486504544*</title>\n<path fill=\"none\" stroke=\"black\" d=\"M1279.14,-181.5C1288.8,-181.5 1298.15,-181.5 1306.58,-181.5\"/>\n<polygon fill=\"black\" stroke=\"black\" points=\"1306.72,-185 1316.72,-181.5 1306.72,-178 1306.72,-185\"/>\n</g>\n<!-- 140710486499408 -->\n<g id=\"node2\" class=\"node\">\n<title>140710486499408</title>\n<polygon fill=\"none\" stroke=\"black\" points=\"1727.5,-165.5 1727.5,-201.5 1915.5,-201.5 1915.5,-165.5 1727.5,-165.5\"/>\n<text text-anchor=\"middle\" x=\"1737.5\" y=\"-179.8\" font-family=\"Times,serif\" font-size=\"14.00\"> </text>\n<polyline fill=\"none\" stroke=\"black\" points=\"1747.5,-165.5 1747.5,-201.5 \"/>\n<text text-anchor=\"middle\" x=\"1789\" y=\"-179.8\" font-family=\"Times,serif\" font-size=\"14.00\">Data 5.8284</text>\n<polyline fill=\"none\" stroke=\"black\" points=\"1830.5,-165.5 1830.5,-201.5 \"/>\n<text text-anchor=\"middle\" x=\"1873\" y=\"-179.8\" font-family=\"Times,serif\" font-size=\"14.00\">Grad 0.1464</text>\n</g>\n<!-- 140710486498448+ -->\n<g id=\"node13\" class=\"node\">\n<title>140710486498448+</title>\n<ellipse fill=\"none\" stroke=\"black\" cx=\"1981\" cy=\"-128.5\" rx=\"27\" ry=\"18\"/>\n<text text-anchor=\"middle\" x=\"1981\" y=\"-124.8\" font-family=\"Times,serif\" font-size=\"14.00\">+</text>\n</g>\n<!-- 140710486499408&#45;&gt;140710486498448+ -->\n<g id=\"edge22\" class=\"edge\">\n<title>140710486499408&#45;&gt;140710486498448+</title>\n<path fill=\"none\" stroke=\"black\" d=\"M1890.98,-165.48C1900.13,-162.68 1909.34,-159.66 1918,-156.5 1928.51,-152.67 1939.73,-147.83 1949.7,-143.27\"/>\n<polygon fill=\"black\" stroke=\"black\" points=\"1951.23,-146.42 1958.81,-139.02 1948.26,-140.08 1951.23,-146.42\"/>\n</g>\n<!-- 140710486499408exp -->\n<g id=\"node3\" class=\"node\">\n<title>140710486499408exp</title>\n<ellipse fill=\"none\" stroke=\"black\" cx=\"1662\" cy=\"-182.5\" rx=\"27\" ry=\"18\"/>\n<text text-anchor=\"middle\" x=\"1662\" y=\"-178.8\" font-family=\"Times,serif\" font-size=\"14.00\">exp</text>\n</g>\n<!-- 140710486499408exp&#45;&gt;140710486499408 -->\n<g id=\"edge1\" class=\"edge\">\n<title>140710486499408exp&#45;&gt;140710486499408</title>\n<path fill=\"none\" stroke=\"black\" d=\"M1689.01,-182.67C1697.28,-182.72 1707,-182.78 1717.34,-182.84\"/>\n<polygon fill=\"black\" stroke=\"black\" points=\"1717.39,-186.35 1727.41,-182.91 1717.44,-179.35 1717.39,-186.35\"/>\n</g>\n<!-- 140710486493744 -->\n<g id=\"node4\" class=\"node\">\n<title>140710486493744</title>\n<polygon fill=\"none\" stroke=\"black\" points=\"1089,-48.5 1089,-84.5 1281,-84.5 1281,-48.5 1089,-48.5\"/>\n<text text-anchor=\"middle\" x=\"1099\" y=\"-62.8\" font-family=\"Times,serif\" font-size=\"14.00\"> </text>\n<polyline fill=\"none\" stroke=\"black\" points=\"1109,-48.5 1109,-84.5 \"/>\n<text text-anchor=\"middle\" x=\"1150.5\" y=\"-62.8\" font-family=\"Times,serif\" font-size=\"14.00\">Data 2.0000</text>\n<polyline fill=\"none\" stroke=\"black\" points=\"1192,-48.5 1192,-84.5 \"/>\n<text text-anchor=\"middle\" x=\"1236.5\" y=\"-62.8\" font-family=\"Times,serif\" font-size=\"14.00\">Grad &#45;0.5320</text>\n</g>\n<!-- 140710486500080* -->\n<g id=\"node7\" class=\"node\">\n<title>140710486500080*</title>\n<ellipse fill=\"none\" stroke=\"black\" cx=\"1344\" cy=\"-66.5\" rx=\"27\" ry=\"18\"/>\n<text text-anchor=\"middle\" x=\"1344\" y=\"-62.8\" font-family=\"Times,serif\" font-size=\"14.00\">*</text>\n</g>\n<!-- 140710486493744&#45;&gt;140710486500080* -->\n<g id=\"edge33\" class=\"edge\">\n<title>140710486493744&#45;&gt;140710486500080*</title>\n<path fill=\"none\" stroke=\"black\" d=\"M1281.4,-66.5C1290.32,-66.5 1298.93,-66.5 1306.75,-66.5\"/>\n<polygon fill=\"black\" stroke=\"black\" points=\"1306.86,-70 1316.86,-66.5 1306.86,-63 1306.86,-70\"/>\n</g>\n<!-- 140713403091600 -->\n<g id=\"node5\" class=\"node\">\n<title>140713403091600</title>\n<polygon fill=\"none\" stroke=\"black\" points=\"4,-217.5 4,-253.5 202,-253.5 202,-217.5 4,-217.5\"/>\n<text text-anchor=\"middle\" x=\"19\" y=\"-231.8\" font-family=\"Times,serif\" font-size=\"14.00\">x2</text>\n<polyline fill=\"none\" stroke=\"black\" points=\"34,-217.5 34,-253.5 \"/>\n<text text-anchor=\"middle\" x=\"75.5\" y=\"-231.8\" font-family=\"Times,serif\" font-size=\"14.00\">Data 0.0000</text>\n<polyline fill=\"none\" stroke=\"black\" points=\"117,-217.5 117,-253.5 \"/>\n<text text-anchor=\"middle\" x=\"159.5\" y=\"-231.8\" font-family=\"Times,serif\" font-size=\"14.00\">Grad 0.5000</text>\n</g>\n<!-- 140710487012784* -->\n<g id=\"node23\" class=\"node\">\n<title>140710487012784*</title>\n<ellipse fill=\"none\" stroke=\"black\" cx=\"269\" cy=\"-180.5\" rx=\"27\" ry=\"18\"/>\n<text text-anchor=\"middle\" x=\"269\" y=\"-176.8\" font-family=\"Times,serif\" font-size=\"14.00\">*</text>\n</g>\n<!-- 140713403091600&#45;&gt;140710487012784* -->\n<g id=\"edge19\" class=\"edge\">\n<title>140713403091600&#45;&gt;140710487012784*</title>\n<path fill=\"none\" stroke=\"black\" d=\"M177.99,-217.47C187.49,-214.7 197.02,-211.69 206,-208.5 216.54,-204.75 227.77,-199.95 237.74,-195.38\"/>\n<polygon fill=\"black\" stroke=\"black\" points=\"239.27,-198.52 246.84,-191.11 236.3,-192.18 239.27,-198.52\"/>\n</g>\n<!-- 140710486500080 -->\n<g id=\"node6\" class=\"node\">\n<title>140710486500080</title>\n<polygon fill=\"none\" stroke=\"black\" points=\"1407,-21.5 1407,-57.5 1599,-57.5 1599,-21.5 1407,-21.5\"/>\n<text text-anchor=\"middle\" x=\"1417\" y=\"-35.8\" font-family=\"Times,serif\" font-size=\"14.00\"> </text>\n<polyline fill=\"none\" stroke=\"black\" points=\"1427,-21.5 1427,-57.5 \"/>\n<text text-anchor=\"middle\" x=\"1468.5\" y=\"-35.8\" font-family=\"Times,serif\" font-size=\"14.00\">Data 1.7627</text>\n<polyline fill=\"none\" stroke=\"black\" points=\"1510,-21.5 1510,-57.5 \"/>\n<text text-anchor=\"middle\" x=\"1554.5\" y=\"-35.8\" font-family=\"Times,serif\" font-size=\"14.00\">Grad &#45;0.6036</text>\n</g>\n<!-- 140710486498976exp -->\n<g id=\"node25\" class=\"node\">\n<title>140710486498976exp</title>\n<ellipse fill=\"none\" stroke=\"black\" cx=\"1662\" cy=\"-25.5\" rx=\"27\" ry=\"18\"/>\n<text text-anchor=\"middle\" x=\"1662\" y=\"-21.8\" font-family=\"Times,serif\" font-size=\"14.00\">exp</text>\n</g>\n<!-- 140710486500080&#45;&gt;140710486498976exp -->\n<g id=\"edge27\" class=\"edge\">\n<title>140710486500080&#45;&gt;140710486498976exp</title>\n<path fill=\"none\" stroke=\"black\" d=\"M1599.4,-30.99C1608.41,-30.19 1617.1,-29.41 1624.98,-28.71\"/>\n<polygon fill=\"black\" stroke=\"black\" points=\"1625.52,-32.18 1635.17,-27.8 1624.89,-25.21 1625.52,-32.18\"/>\n</g>\n<!-- 140710486500080*&#45;&gt;140710486500080 -->\n<g id=\"edge2\" class=\"edge\">\n<title>140710486500080*&#45;&gt;140710486500080</title>\n<path fill=\"none\" stroke=\"black\" d=\"M1370.22,-62.16C1378.03,-60.82 1387.16,-59.25 1396.91,-57.57\"/>\n<polygon fill=\"black\" stroke=\"black\" points=\"1397.58,-61.01 1406.84,-55.87 1396.39,-54.11 1397.58,-61.01\"/>\n</g>\n<!-- 140710486500128 -->\n<g id=\"node8\" class=\"node\">\n<title>140710486500128</title>\n<polygon fill=\"none\" stroke=\"black\" points=\"1725.5,-55.5 1725.5,-91.5 1917.5,-91.5 1917.5,-55.5 1725.5,-55.5\"/>\n<text text-anchor=\"middle\" x=\"1735.5\" y=\"-69.8\" font-family=\"Times,serif\" font-size=\"14.00\"> </text>\n<polyline fill=\"none\" stroke=\"black\" points=\"1745.5,-55.5 1745.5,-91.5 \"/>\n<text text-anchor=\"middle\" x=\"1787\" y=\"-69.8\" font-family=\"Times,serif\" font-size=\"14.00\">Data 1.0000</text>\n<polyline fill=\"none\" stroke=\"black\" points=\"1828.5,-55.5 1828.5,-91.5 \"/>\n<text text-anchor=\"middle\" x=\"1873\" y=\"-69.8\" font-family=\"Times,serif\" font-size=\"14.00\">Grad &#45;0.1036</text>\n</g>\n<!-- 140710486500704+ -->\n<g id=\"node19\" class=\"node\">\n<title>140710486500704+</title>\n<ellipse fill=\"none\" stroke=\"black\" cx=\"1981\" cy=\"-73.5\" rx=\"27\" ry=\"18\"/>\n<text text-anchor=\"middle\" x=\"1981\" y=\"-69.8\" font-family=\"Times,serif\" font-size=\"14.00\">+</text>\n</g>\n<!-- 140710486500128&#45;&gt;140710486500704+ -->\n<g id=\"edge31\" class=\"edge\">\n<title>140710486500128&#45;&gt;140710486500704+</title>\n<path fill=\"none\" stroke=\"black\" d=\"M1917.75,-73.5C1926.94,-73.5 1935.82,-73.5 1943.85,-73.5\"/>\n<polygon fill=\"black\" stroke=\"black\" points=\"1943.87,-77 1953.87,-73.5 1943.87,-70 1943.87,-77\"/>\n</g>\n<!-- 140710486496096 -->\n<g id=\"node9\" class=\"node\">\n<title>140710486496096</title>\n<polygon fill=\"none\" stroke=\"black\" points=\"1725,-110.5 1725,-146.5 1918,-146.5 1918,-110.5 1725,-110.5\"/>\n<text text-anchor=\"middle\" x=\"1735\" y=\"-124.8\" font-family=\"Times,serif\" font-size=\"14.00\"> </text>\n<polyline fill=\"none\" stroke=\"black\" points=\"1745,-110.5 1745,-146.5 \"/>\n<text text-anchor=\"middle\" x=\"1789\" y=\"-124.8\" font-family=\"Times,serif\" font-size=\"14.00\">Data &#45;1.0000</text>\n<polyline fill=\"none\" stroke=\"black\" points=\"1833,-110.5 1833,-146.5 \"/>\n<text text-anchor=\"middle\" x=\"1875.5\" y=\"-124.8\" font-family=\"Times,serif\" font-size=\"14.00\">Grad 0.1464</text>\n</g>\n<!-- 140710486496096&#45;&gt;140710486498448+ -->\n<g id=\"edge24\" class=\"edge\">\n<title>140710486496096&#45;&gt;140710486498448+</title>\n<path fill=\"none\" stroke=\"black\" d=\"M1918.2,-128.5C1927.15,-128.5 1935.79,-128.5 1943.63,-128.5\"/>\n<polygon fill=\"black\" stroke=\"black\" points=\"1943.78,-132 1953.78,-128.5 1943.78,-125 1943.78,-132\"/>\n</g>\n<!-- 140710486504544 -->\n<g id=\"node10\" class=\"node\">\n<title>140710486504544</title>\n<polygon fill=\"none\" stroke=\"black\" points=\"1409,-164.5 1409,-200.5 1597,-200.5 1597,-164.5 1409,-164.5\"/>\n<text text-anchor=\"middle\" x=\"1419\" y=\"-178.8\" font-family=\"Times,serif\" font-size=\"14.00\"> </text>\n<polyline fill=\"none\" stroke=\"black\" points=\"1429,-164.5 1429,-200.5 \"/>\n<text text-anchor=\"middle\" x=\"1470.5\" y=\"-178.8\" font-family=\"Times,serif\" font-size=\"14.00\">Data 1.7627</text>\n<polyline fill=\"none\" stroke=\"black\" points=\"1512,-164.5 1512,-200.5 \"/>\n<text text-anchor=\"middle\" x=\"1554.5\" y=\"-178.8\" font-family=\"Times,serif\" font-size=\"14.00\">Grad 0.8536</text>\n</g>\n<!-- 140710486504544&#45;&gt;140710486499408exp -->\n<g id=\"edge14\" class=\"edge\">\n<title>140710486504544&#45;&gt;140710486499408exp</title>\n<path fill=\"none\" stroke=\"black\" d=\"M1597.14,-182.5C1606.8,-182.5 1616.15,-182.5 1624.58,-182.5\"/>\n<polygon fill=\"black\" stroke=\"black\" points=\"1624.72,-186 1634.72,-182.5 1624.72,-179 1624.72,-186\"/>\n</g>\n<!-- 140710486504544*&#45;&gt;140710486504544 -->\n<g id=\"edge3\" class=\"edge\">\n<title>140710486504544*&#45;&gt;140710486504544</title>\n<path fill=\"none\" stroke=\"black\" d=\"M1371.28,-181.67C1379.33,-181.72 1388.73,-181.78 1398.72,-181.84\"/>\n<polygon fill=\"black\" stroke=\"black\" points=\"1398.86,-185.34 1408.88,-181.91 1398.9,-178.34 1398.86,-185.34\"/>\n</g>\n<!-- 140710486498448 -->\n<g id=\"node12\" class=\"node\">\n<title>140710486498448</title>\n<polygon fill=\"none\" stroke=\"black\" points=\"2272,-110.5 2272,-146.5 2460,-146.5 2460,-110.5 2272,-110.5\"/>\n<text text-anchor=\"middle\" x=\"2282\" y=\"-124.8\" font-family=\"Times,serif\" font-size=\"14.00\"> </text>\n<polyline fill=\"none\" stroke=\"black\" points=\"2292,-110.5 2292,-146.5 \"/>\n<text text-anchor=\"middle\" x=\"2333.5\" y=\"-124.8\" font-family=\"Times,serif\" font-size=\"14.00\">Data 4.8284</text>\n<polyline fill=\"none\" stroke=\"black\" points=\"2375,-110.5 2375,-146.5 \"/>\n<text text-anchor=\"middle\" x=\"2417.5\" y=\"-124.8\" font-family=\"Times,serif\" font-size=\"14.00\">Grad 0.1464</text>\n</g>\n<!-- 140710486499024* -->\n<g id=\"node29\" class=\"node\">\n<title>140710486499024*</title>\n<ellipse fill=\"none\" stroke=\"black\" cx=\"2747\" cy=\"-100.5\" rx=\"27\" ry=\"18\"/>\n<text text-anchor=\"middle\" x=\"2747\" y=\"-96.8\" font-family=\"Times,serif\" font-size=\"14.00\">*</text>\n</g>\n<!-- 140710486498448&#45;&gt;140710486499024* -->\n<g id=\"edge13\" class=\"edge\">\n<title>140710486498448&#45;&gt;140710486499024*</title>\n<path fill=\"none\" stroke=\"black\" d=\"M2460.2,-121.61C2540.71,-115.67 2652.8,-107.39 2709.72,-103.18\"/>\n<polygon fill=\"black\" stroke=\"black\" points=\"2710.3,-106.65 2720.02,-102.42 2709.79,-99.67 2710.3,-106.65\"/>\n</g>\n<!-- 140710486498448+&#45;&gt;140710486498448 -->\n<g id=\"edge4\" class=\"edge\">\n<title>140710486498448+&#45;&gt;140710486498448</title>\n<path fill=\"none\" stroke=\"black\" d=\"M2008.02,-128.5C2059.28,-128.5 2175.8,-128.5 2261.84,-128.5\"/>\n<polygon fill=\"black\" stroke=\"black\" points=\"2261.91,-132 2271.91,-128.5 2261.91,-125 2261.91,-132\"/>\n</g>\n<!-- 140710487002272 -->\n<g id=\"node14\" class=\"node\">\n<title>140710487002272</title>\n<polygon fill=\"none\" stroke=\"black\" points=\"684,-134.5 684,-170.5 963,-170.5 963,-134.5 684,-134.5\"/>\n<text text-anchor=\"middle\" x=\"737\" y=\"-148.8\" font-family=\"Times,serif\" font-size=\"14.00\">x1*w1 + x2*w2</text>\n<polyline fill=\"none\" stroke=\"black\" points=\"790,-134.5 790,-170.5 \"/>\n<text text-anchor=\"middle\" x=\"834\" y=\"-148.8\" font-family=\"Times,serif\" font-size=\"14.00\">Data &#45;6.0000</text>\n<polyline fill=\"none\" stroke=\"black\" points=\"878,-134.5 878,-170.5 \"/>\n<text text-anchor=\"middle\" x=\"920.5\" y=\"-148.8\" font-family=\"Times,serif\" font-size=\"14.00\">Grad 0.5000</text>\n</g>\n<!-- 140710486506896+ -->\n<g id=\"node21\" class=\"node\">\n<title>140710486506896+</title>\n<ellipse fill=\"none\" stroke=\"black\" cx=\"1026\" cy=\"-124.5\" rx=\"27\" ry=\"18\"/>\n<text text-anchor=\"middle\" x=\"1026\" y=\"-120.8\" font-family=\"Times,serif\" font-size=\"14.00\">+</text>\n</g>\n<!-- 140710487002272&#45;&gt;140710486506896+ -->\n<g id=\"edge29\" class=\"edge\">\n<title>140710487002272&#45;&gt;140710486506896+</title>\n<path fill=\"none\" stroke=\"black\" d=\"M953.46,-134.49C966.46,-132.67 978.76,-130.96 989.37,-129.48\"/>\n<polygon fill=\"black\" stroke=\"black\" points=\"989.97,-132.93 999.39,-128.08 989,-125.99 989.97,-132.93\"/>\n</g>\n<!-- 140710487002272+ -->\n<g id=\"node15\" class=\"node\">\n<title>140710487002272+</title>\n<ellipse fill=\"none\" stroke=\"black\" cx=\"621\" cy=\"-152.5\" rx=\"27\" ry=\"18\"/>\n<text text-anchor=\"middle\" x=\"621\" y=\"-148.8\" font-family=\"Times,serif\" font-size=\"14.00\">+</text>\n</g>\n<!-- 140710487002272+&#45;&gt;140710487002272 -->\n<g id=\"edge5\" class=\"edge\">\n<title>140710487002272+&#45;&gt;140710487002272</title>\n<path fill=\"none\" stroke=\"black\" d=\"M648.21,-152.5C655.62,-152.5 664.24,-152.5 673.61,-152.5\"/>\n<polygon fill=\"black\" stroke=\"black\" points=\"673.63,-156 683.63,-152.5 673.63,-149 673.63,-156\"/>\n</g>\n<!-- 140710487014608 -->\n<g id=\"node16\" class=\"node\">\n<title>140710487014608</title>\n<polygon fill=\"none\" stroke=\"black\" points=\"728,-79.5 728,-115.5 919,-115.5 919,-79.5 728,-79.5\"/>\n<text text-anchor=\"middle\" x=\"739.5\" y=\"-93.8\" font-family=\"Times,serif\" font-size=\"14.00\">b</text>\n<polyline fill=\"none\" stroke=\"black\" points=\"751,-79.5 751,-115.5 \"/>\n<text text-anchor=\"middle\" x=\"792.5\" y=\"-93.8\" font-family=\"Times,serif\" font-size=\"14.00\">Data 6.8814</text>\n<polyline fill=\"none\" stroke=\"black\" points=\"834,-79.5 834,-115.5 \"/>\n<text text-anchor=\"middle\" x=\"876.5\" y=\"-93.8\" font-family=\"Times,serif\" font-size=\"14.00\">Grad 0.5000</text>\n</g>\n<!-- 140710487014608&#45;&gt;140710486506896+ -->\n<g id=\"edge16\" class=\"edge\">\n<title>140710487014608&#45;&gt;140710486506896+</title>\n<path fill=\"none\" stroke=\"black\" d=\"M919.17,-110.25C944.1,-113.61 969.48,-117.02 989.14,-119.67\"/>\n<polygon fill=\"black\" stroke=\"black\" points=\"988.77,-123.15 999.15,-121.02 989.71,-116.22 988.77,-123.15\"/>\n</g>\n<!-- 140713403090208 -->\n<g id=\"node17\" class=\"node\">\n<title>140713403090208</title>\n<polygon fill=\"none\" stroke=\"black\" points=\"2,-107.5 2,-143.5 204,-143.5 204,-107.5 2,-107.5\"/>\n<text text-anchor=\"middle\" x=\"17\" y=\"-121.8\" font-family=\"Times,serif\" font-size=\"14.00\">x1</text>\n<polyline fill=\"none\" stroke=\"black\" points=\"32,-107.5 32,-143.5 \"/>\n<text text-anchor=\"middle\" x=\"73.5\" y=\"-121.8\" font-family=\"Times,serif\" font-size=\"14.00\">Data 2.0000</text>\n<polyline fill=\"none\" stroke=\"black\" points=\"115,-107.5 115,-143.5 \"/>\n<text text-anchor=\"middle\" x=\"159.5\" y=\"-121.8\" font-family=\"Times,serif\" font-size=\"14.00\">Grad &#45;1.5000</text>\n</g>\n<!-- 140710487008944* -->\n<g id=\"node27\" class=\"node\">\n<title>140710487008944*</title>\n<ellipse fill=\"none\" stroke=\"black\" cx=\"269\" cy=\"-125.5\" rx=\"27\" ry=\"18\"/>\n<text text-anchor=\"middle\" x=\"269\" y=\"-121.8\" font-family=\"Times,serif\" font-size=\"14.00\">*</text>\n</g>\n<!-- 140713403090208&#45;&gt;140710487008944* -->\n<g id=\"edge25\" class=\"edge\">\n<title>140713403090208&#45;&gt;140710487008944*</title>\n<path fill=\"none\" stroke=\"black\" d=\"M204.12,-125.5C213.88,-125.5 223.27,-125.5 231.71,-125.5\"/>\n<polygon fill=\"black\" stroke=\"black\" points=\"231.86,-129 241.86,-125.5 231.86,-122 231.86,-129\"/>\n</g>\n<!-- 140710486500704 -->\n<g id=\"node18\" class=\"node\">\n<title>140710486500704</title>\n<polygon fill=\"none\" stroke=\"black\" points=\"2044,-55.5 2044,-91.5 2236,-91.5 2236,-55.5 2044,-55.5\"/>\n<text text-anchor=\"middle\" x=\"2054\" y=\"-69.8\" font-family=\"Times,serif\" font-size=\"14.00\"> </text>\n<polyline fill=\"none\" stroke=\"black\" points=\"2064,-55.5 2064,-91.5 \"/>\n<text text-anchor=\"middle\" x=\"2105.5\" y=\"-69.8\" font-family=\"Times,serif\" font-size=\"14.00\">Data 6.8284</text>\n<polyline fill=\"none\" stroke=\"black\" points=\"2147,-55.5 2147,-91.5 \"/>\n<text text-anchor=\"middle\" x=\"2191.5\" y=\"-69.8\" font-family=\"Times,serif\" font-size=\"14.00\">Grad &#45;0.1036</text>\n</g>\n<!-- 140710486507376** &#45;1 -->\n<g id=\"node32\" class=\"node\">\n<title>140710486507376** &#45;1</title>\n<ellipse fill=\"none\" stroke=\"black\" cx=\"2366\" cy=\"-73.5\" rx=\"29.5\" ry=\"18\"/>\n<text text-anchor=\"middle\" x=\"2366\" y=\"-69.8\" font-family=\"Times,serif\" font-size=\"14.00\">** &#45;1</text>\n</g>\n<!-- 140710486500704&#45;&gt;140710486507376** &#45;1 -->\n<g id=\"edge32\" class=\"edge\">\n<title>140710486500704&#45;&gt;140710486507376** &#45;1</title>\n<path fill=\"none\" stroke=\"black\" d=\"M2236.32,-73.5C2268,-73.5 2301.49,-73.5 2326.36,-73.5\"/>\n<polygon fill=\"black\" stroke=\"black\" points=\"2326.47,-77 2336.47,-73.5 2326.47,-70 2326.47,-77\"/>\n</g>\n<!-- 140710486500704+&#45;&gt;140710486500704 -->\n<g id=\"edge6\" class=\"edge\">\n<title>140710486500704+&#45;&gt;140710486500704</title>\n<path fill=\"none\" stroke=\"black\" d=\"M2008.28,-73.5C2015.78,-73.5 2024.44,-73.5 2033.67,-73.5\"/>\n<polygon fill=\"black\" stroke=\"black\" points=\"2033.87,-77 2043.87,-73.5 2033.87,-70 2033.87,-77\"/>\n</g>\n<!-- 140710486506896 -->\n<g id=\"node20\" class=\"node\">\n<title>140710486506896</title>\n<polygon fill=\"none\" stroke=\"black\" points=\"1089.5,-106.5 1089.5,-142.5 1280.5,-142.5 1280.5,-106.5 1089.5,-106.5\"/>\n<text text-anchor=\"middle\" x=\"1101\" y=\"-120.8\" font-family=\"Times,serif\" font-size=\"14.00\">h</text>\n<polyline fill=\"none\" stroke=\"black\" points=\"1112.5,-106.5 1112.5,-142.5 \"/>\n<text text-anchor=\"middle\" x=\"1154\" y=\"-120.8\" font-family=\"Times,serif\" font-size=\"14.00\">Data 0.8814</text>\n<polyline fill=\"none\" stroke=\"black\" points=\"1195.5,-106.5 1195.5,-142.5 \"/>\n<text text-anchor=\"middle\" x=\"1238\" y=\"-120.8\" font-family=\"Times,serif\" font-size=\"14.00\">Grad 0.5000</text>\n</g>\n<!-- 140710486506896&#45;&gt;140710486500080* -->\n<g id=\"edge23\" class=\"edge\">\n<title>140710486506896&#45;&gt;140710486500080*</title>\n<path fill=\"none\" stroke=\"black\" d=\"M1244.33,-106.44C1256.52,-102.39 1269.24,-97.97 1281,-93.5 1291.21,-89.62 1302.18,-85 1312.02,-80.68\"/>\n<polygon fill=\"black\" stroke=\"black\" points=\"1313.69,-83.77 1321.4,-76.51 1310.84,-77.37 1313.69,-83.77\"/>\n</g>\n<!-- 140710486506896&#45;&gt;140710486504544* -->\n<g id=\"edge15\" class=\"edge\">\n<title>140710486506896&#45;&gt;140710486504544*</title>\n<path fill=\"none\" stroke=\"black\" d=\"M1246.38,-142.52C1257.95,-146.27 1269.9,-150.35 1281,-154.5 1291.23,-158.33 1302.2,-162.94 1312.04,-167.26\"/>\n<polygon fill=\"black\" stroke=\"black\" points=\"1310.86,-170.57 1321.42,-171.44 1313.71,-164.17 1310.86,-170.57\"/>\n</g>\n<!-- 140710486506896+&#45;&gt;140710486506896 -->\n<g id=\"edge7\" class=\"edge\">\n<title>140710486506896+&#45;&gt;140710486506896</title>\n<path fill=\"none\" stroke=\"black\" d=\"M1053.28,-124.5C1060.92,-124.5 1069.78,-124.5 1079.2,-124.5\"/>\n<polygon fill=\"black\" stroke=\"black\" points=\"1079.21,-128 1089.21,-124.5 1079.21,-121 1079.21,-128\"/>\n</g>\n<!-- 140710487012784 -->\n<g id=\"node22\" class=\"node\">\n<title>140710487012784</title>\n<polygon fill=\"none\" stroke=\"black\" points=\"334.5,-162.5 334.5,-198.5 555.5,-198.5 555.5,-162.5 334.5,-162.5\"/>\n<text text-anchor=\"middle\" x=\"361\" y=\"-176.8\" font-family=\"Times,serif\" font-size=\"14.00\">x2*w2</text>\n<polyline fill=\"none\" stroke=\"black\" points=\"387.5,-162.5 387.5,-198.5 \"/>\n<text text-anchor=\"middle\" x=\"429\" y=\"-176.8\" font-family=\"Times,serif\" font-size=\"14.00\">Data 0.0000</text>\n<polyline fill=\"none\" stroke=\"black\" points=\"470.5,-162.5 470.5,-198.5 \"/>\n<text text-anchor=\"middle\" x=\"513\" y=\"-176.8\" font-family=\"Times,serif\" font-size=\"14.00\">Grad 0.5000</text>\n</g>\n<!-- 140710487012784&#45;&gt;140710487002272+ -->\n<g id=\"edge28\" class=\"edge\">\n<title>140710487012784&#45;&gt;140710487002272+</title>\n<path fill=\"none\" stroke=\"black\" d=\"M555.7,-162.85C565.93,-161.2 575.71,-159.63 584.42,-158.23\"/>\n<polygon fill=\"black\" stroke=\"black\" points=\"585.15,-161.65 594.46,-156.61 584.03,-154.74 585.15,-161.65\"/>\n</g>\n<!-- 140710487012784*&#45;&gt;140710487012784 -->\n<g id=\"edge8\" class=\"edge\">\n<title>140710487012784*&#45;&gt;140710487012784</title>\n<path fill=\"none\" stroke=\"black\" d=\"M296.05,-180.5C304.24,-180.5 313.88,-180.5 324.24,-180.5\"/>\n<polygon fill=\"black\" stroke=\"black\" points=\"324.38,-184 334.38,-180.5 324.38,-177 324.38,-184\"/>\n</g>\n<!-- 140710486498976 -->\n<g id=\"node24\" class=\"node\">\n<title>140710486498976</title>\n<polygon fill=\"none\" stroke=\"black\" points=\"1725.5,-0.5 1725.5,-36.5 1917.5,-36.5 1917.5,-0.5 1725.5,-0.5\"/>\n<text text-anchor=\"middle\" x=\"1735.5\" y=\"-14.8\" font-family=\"Times,serif\" font-size=\"14.00\"> </text>\n<polyline fill=\"none\" stroke=\"black\" points=\"1745.5,-0.5 1745.5,-36.5 \"/>\n<text text-anchor=\"middle\" x=\"1787\" y=\"-14.8\" font-family=\"Times,serif\" font-size=\"14.00\">Data 5.8284</text>\n<polyline fill=\"none\" stroke=\"black\" points=\"1828.5,-0.5 1828.5,-36.5 \"/>\n<text text-anchor=\"middle\" x=\"1873\" y=\"-14.8\" font-family=\"Times,serif\" font-size=\"14.00\">Grad &#45;0.1036</text>\n</g>\n<!-- 140710486498976&#45;&gt;140710486500704+ -->\n<g id=\"edge26\" class=\"edge\">\n<title>140710486498976&#45;&gt;140710486500704+</title>\n<path fill=\"none\" stroke=\"black\" d=\"M1890.98,-36.52C1900.13,-39.32 1909.34,-42.34 1918,-45.5 1928.51,-49.33 1939.73,-54.17 1949.7,-58.73\"/>\n<polygon fill=\"black\" stroke=\"black\" points=\"1948.26,-61.92 1958.81,-62.98 1951.23,-55.58 1948.26,-61.92\"/>\n</g>\n<!-- 140710486498976exp&#45;&gt;140710486498976 -->\n<g id=\"edge9\" class=\"edge\">\n<title>140710486498976exp&#45;&gt;140710486498976</title>\n<path fill=\"none\" stroke=\"black\" d=\"M1689.01,-24.34C1696.72,-24 1705.69,-23.6 1715.25,-23.18\"/>\n<polygon fill=\"black\" stroke=\"black\" points=\"1715.56,-26.67 1725.39,-22.73 1715.25,-19.67 1715.56,-26.67\"/>\n</g>\n<!-- 140710487008944 -->\n<g id=\"node26\" class=\"node\">\n<title>140710487008944</title>\n<polygon fill=\"none\" stroke=\"black\" points=\"332,-107.5 332,-143.5 558,-143.5 558,-107.5 332,-107.5\"/>\n<text text-anchor=\"middle\" x=\"358.5\" y=\"-121.8\" font-family=\"Times,serif\" font-size=\"14.00\">x1*w1</text>\n<polyline fill=\"none\" stroke=\"black\" points=\"385,-107.5 385,-143.5 \"/>\n<text text-anchor=\"middle\" x=\"429\" y=\"-121.8\" font-family=\"Times,serif\" font-size=\"14.00\">Data &#45;6.0000</text>\n<polyline fill=\"none\" stroke=\"black\" points=\"473,-107.5 473,-143.5 \"/>\n<text text-anchor=\"middle\" x=\"515.5\" y=\"-121.8\" font-family=\"Times,serif\" font-size=\"14.00\">Grad 0.5000</text>\n</g>\n<!-- 140710487008944&#45;&gt;140710487002272+ -->\n<g id=\"edge30\" class=\"edge\">\n<title>140710487008944&#45;&gt;140710487002272+</title>\n<path fill=\"none\" stroke=\"black\" d=\"M558.16,-142.9C567.49,-144.35 576.4,-145.73 584.4,-146.98\"/>\n<polygon fill=\"black\" stroke=\"black\" points=\"583.94,-150.45 594.35,-148.52 585.01,-143.53 583.94,-150.45\"/>\n</g>\n<!-- 140710487008944*&#45;&gt;140710487008944 -->\n<g id=\"edge10\" class=\"edge\">\n<title>140710487008944*&#45;&gt;140710487008944</title>\n<path fill=\"none\" stroke=\"black\" d=\"M296.05,-125.5C303.58,-125.5 312.33,-125.5 321.75,-125.5\"/>\n<polygon fill=\"black\" stroke=\"black\" points=\"321.78,-129 331.78,-125.5 321.78,-122 321.78,-129\"/>\n</g>\n<!-- 140710486499024 -->\n<g id=\"node28\" class=\"node\">\n<title>140710486499024</title>\n<polygon fill=\"none\" stroke=\"black\" points=\"2810,-82.5 2810,-118.5 2998,-118.5 2998,-82.5 2810,-82.5\"/>\n<text text-anchor=\"middle\" x=\"2820\" y=\"-96.8\" font-family=\"Times,serif\" font-size=\"14.00\"> </text>\n<polyline fill=\"none\" stroke=\"black\" points=\"2830,-82.5 2830,-118.5 \"/>\n<text text-anchor=\"middle\" x=\"2871.5\" y=\"-96.8\" font-family=\"Times,serif\" font-size=\"14.00\">Data 0.7071</text>\n<polyline fill=\"none\" stroke=\"black\" points=\"2913,-82.5 2913,-118.5 \"/>\n<text text-anchor=\"middle\" x=\"2955.5\" y=\"-96.8\" font-family=\"Times,serif\" font-size=\"14.00\">Grad 1.0000</text>\n</g>\n<!-- 140710486499024*&#45;&gt;140710486499024 -->\n<g id=\"edge11\" class=\"edge\">\n<title>140710486499024*&#45;&gt;140710486499024</title>\n<path fill=\"none\" stroke=\"black\" d=\"M2774.29,-100.5C2781.78,-100.5 2790.42,-100.5 2799.6,-100.5\"/>\n<polygon fill=\"black\" stroke=\"black\" points=\"2799.76,-104 2809.76,-100.5 2799.76,-97 2799.76,-104\"/>\n</g>\n<!-- 140713403090784 -->\n<g id=\"node30\" class=\"node\">\n<title>140713403090784</title>\n<polygon fill=\"none\" stroke=\"black\" points=\"0,-52.5 0,-88.5 206,-88.5 206,-52.5 0,-52.5\"/>\n<text text-anchor=\"middle\" x=\"16.5\" y=\"-66.8\" font-family=\"Times,serif\" font-size=\"14.00\">w1</text>\n<polyline fill=\"none\" stroke=\"black\" points=\"33,-52.5 33,-88.5 \"/>\n<text text-anchor=\"middle\" x=\"77\" y=\"-66.8\" font-family=\"Times,serif\" font-size=\"14.00\">Data &#45;3.0000</text>\n<polyline fill=\"none\" stroke=\"black\" points=\"121,-52.5 121,-88.5 \"/>\n<text text-anchor=\"middle\" x=\"163.5\" y=\"-66.8\" font-family=\"Times,serif\" font-size=\"14.00\">Grad 1.0000</text>\n</g>\n<!-- 140713403090784&#45;&gt;140710487008944* -->\n<g id=\"edge17\" class=\"edge\">\n<title>140713403090784&#45;&gt;140710487008944*</title>\n<path fill=\"none\" stroke=\"black\" d=\"M177.99,-88.53C187.49,-91.3 197.02,-94.31 206,-97.5 216.54,-101.25 227.77,-106.05 237.74,-110.62\"/>\n<polygon fill=\"black\" stroke=\"black\" points=\"236.3,-113.82 246.84,-114.89 239.27,-107.48 236.3,-113.82\"/>\n</g>\n<!-- 140710486507376 -->\n<g id=\"node31\" class=\"node\">\n<title>140710486507376</title>\n<polygon fill=\"none\" stroke=\"black\" points=\"2496,-59.5 2496,-95.5 2684,-95.5 2684,-59.5 2496,-59.5\"/>\n<text text-anchor=\"middle\" x=\"2506\" y=\"-73.8\" font-family=\"Times,serif\" font-size=\"14.00\"> </text>\n<polyline fill=\"none\" stroke=\"black\" points=\"2516,-59.5 2516,-95.5 \"/>\n<text text-anchor=\"middle\" x=\"2557.5\" y=\"-73.8\" font-family=\"Times,serif\" font-size=\"14.00\">Data 0.1464</text>\n<polyline fill=\"none\" stroke=\"black\" points=\"2599,-59.5 2599,-95.5 \"/>\n<text text-anchor=\"middle\" x=\"2641.5\" y=\"-73.8\" font-family=\"Times,serif\" font-size=\"14.00\">Grad 4.8284</text>\n</g>\n<!-- 140710486507376&#45;&gt;140710486499024* -->\n<g id=\"edge21\" class=\"edge\">\n<title>140710486507376&#45;&gt;140710486499024*</title>\n<path fill=\"none\" stroke=\"black\" d=\"M2684.29,-91.34C2693.48,-92.71 2702.35,-94.02 2710.37,-95.21\"/>\n<polygon fill=\"black\" stroke=\"black\" points=\"2709.97,-98.69 2720.38,-96.7 2711,-91.77 2709.97,-98.69\"/>\n</g>\n<!-- 140710486507376** &#45;1&#45;&gt;140710486507376 -->\n<g id=\"edge12\" class=\"edge\">\n<title>140710486507376** &#45;1&#45;&gt;140710486507376</title>\n<path fill=\"none\" stroke=\"black\" d=\"M2395.57,-74.01C2418.6,-74.43 2452.47,-75.04 2485.46,-75.63\"/>\n<polygon fill=\"black\" stroke=\"black\" points=\"2485.6,-79.14 2495.66,-75.82 2485.73,-72.14 2485.6,-79.14\"/>\n</g>\n<!-- 140713403090832 -->\n<g id=\"node33\" class=\"node\">\n<title>140713403090832</title>\n<polygon fill=\"none\" stroke=\"black\" points=\"2.5,-162.5 2.5,-198.5 203.5,-198.5 203.5,-162.5 2.5,-162.5\"/>\n<text text-anchor=\"middle\" x=\"19\" y=\"-176.8\" font-family=\"Times,serif\" font-size=\"14.00\">w2</text>\n<polyline fill=\"none\" stroke=\"black\" points=\"35.5,-162.5 35.5,-198.5 \"/>\n<text text-anchor=\"middle\" x=\"77\" y=\"-176.8\" font-family=\"Times,serif\" font-size=\"14.00\">Data 1.0000</text>\n<polyline fill=\"none\" stroke=\"black\" points=\"118.5,-162.5 118.5,-198.5 \"/>\n<text text-anchor=\"middle\" x=\"161\" y=\"-176.8\" font-family=\"Times,serif\" font-size=\"14.00\">Grad 0.0000</text>\n</g>\n<!-- 140713403090832&#45;&gt;140710487012784* -->\n<g id=\"edge18\" class=\"edge\">\n<title>140713403090832&#45;&gt;140710487012784*</title>\n<path fill=\"none\" stroke=\"black\" d=\"M203.65,-180.5C213.56,-180.5 223.1,-180.5 231.67,-180.5\"/>\n<polygon fill=\"black\" stroke=\"black\" points=\"231.95,-184 241.95,-180.5 231.95,-177 231.95,-184\"/>\n</g>\n</g>\n</svg>\n",
            "text/plain": [
              "<graphviz.graphs.Digraph at 0x7ff9b69812a0>"
            ]
          },
          "metadata": {},
          "execution_count": 87
        }
      ]
    },
    {
      "cell_type": "markdown",
      "source": [
        "Below is create scalars using tensor from Pytorch. And replicate the same dataflow with tensor and also calculate the backward gradients of these tensors.\n"
      ],
      "metadata": {
        "id": "J8brBQog_rrb"
      }
    },
    {
      "cell_type": "code",
      "source": [
        "import torch\n",
        "\n",
        "x1 = torch.Tensor([2.0]).double(); x1.requires_grad = True\n",
        "w1 = torch.Tensor([-3.0]).double(); w1.requires_grad = True\n",
        "x2 = torch.Tensor([0.0]).double(); x2.requires_grad = True\n",
        "w2 = torch.Tensor([1.0]).double(); w2.requires_grad = True\n",
        "b = torch.tensor([6.8813735870195432]).double(); b.requires_grad = True\n",
        "\n",
        "h = x1*w1 + x2*w2 + b  # note tensor h doesn't require gradient, h.grad is None. But its gradient was definitely calculated as part of the chain rule.\n",
        "e = h.tanh() # so does e\n",
        "e.backward()\n",
        "\n",
        "print(e.data.item())\n",
        "print('----')\n",
        "print(\"x1.grad\", x1.grad.item())\n",
        "print(\"x2.grad\", x2.grad.item())\n",
        "print(\"w1.grad\", w1.grad.item())\n",
        "print(\"w2.grad\", w2.grad.item())\n"
      ],
      "metadata": {
        "colab": {
          "base_uri": "https://localhost:8080/"
        },
        "id": "URY-HwRa_01_",
        "outputId": "cb2977eb-22de-4e22-a564-5d26262d1f22"
      },
      "execution_count": 88,
      "outputs": [
        {
          "output_type": "stream",
          "name": "stdout",
          "text": [
            "0.7071066904050358\n",
            "----\n",
            "x1.grad -1.5000003851533106\n",
            "x2.grad 0.5000001283844369\n",
            "w1.grad 1.0000002567688737\n",
            "w2.grad 0.0\n"
          ]
        }
      ]
    },
    {
      "cell_type": "markdown",
      "source": [
        "Now lets get back to Value, and use it to create Neuro, Layer, MLP."
      ],
      "metadata": {
        "id": "4YYSZ6vpFzpV"
      }
    },
    {
      "cell_type": "code",
      "source": [
        "import random\n",
        "\n",
        "class Module:\n",
        "\n",
        "  def parameters(self):\n",
        "    # overwrite!!\n",
        "    return []\n",
        "\n",
        "  def zero_grad(self):\n",
        "    for p in self.parameters():\n",
        "      p.grad = 0.0\n",
        "\n",
        "\n",
        "class Neuro(Module):\n",
        "  \"\"\"\n",
        "  computation unit:\n",
        "\n",
        "  inputs -> |weights*inputs + bias| -> activation func -> out\n",
        "\n",
        "  so three things from one neuro: weights, bias, activation func\n",
        "  \"\"\"\n",
        "\n",
        "  def __init__(self, nin):\n",
        "    \"\"\"\n",
        "    define weights and bias base on input number:\n",
        "      one input one weight, one neuro one bias\n",
        "    nin: number of the inputs that go into the neuro\n",
        "    \"\"\"\n",
        "    self.w = [Value(random.uniform(-1, 1)) for n in range(nin)] # a list of Value objs\n",
        "    self.b = Value(random.uniform(-1, 1))  # a Value obj\n",
        "  def __call__(self, inputs):\n",
        "    \"\"\"\n",
        "    give neuro output by first of all performing inputs*weights + bias, then a non-linear activation func(tanh here).\n",
        "    inputs: a list of Value objs/ or just a list of numbers, because in Value.__mul__(other), we can have \"other\" in non-Value type.\n",
        "    out: a Value obj\n",
        "\n",
        "    kick off the computation\n",
        "    \"\"\"\n",
        "\n",
        "    act = sum((w*x for w, x in zip(self.w, inputs)), start=self.b)\n",
        "    out = act.tanh()\n",
        "\n",
        "    return out\n",
        "\n",
        "  def parameters(self):\n",
        "    return self.w + [self.b]\n",
        "\n",
        "class Layer(Module):\n",
        "  \"\"\"\n",
        "  Layer is a series of neuros, f.e.\n",
        "             neuro_1\n",
        "  inputs     neuro_2\n",
        "               ...\n",
        "  \"\"\"\n",
        "\n",
        "  def __init__(self, nin, nouts):\n",
        "    \"\"\"\n",
        "    construct layer: a list of neuros.\n",
        "    \"\"\"\n",
        "    self.neuros = [Neuro(nin) for _ in range(nouts)]\n",
        "\n",
        "  def __call__(self, inputs):\n",
        "    \"\"\"\n",
        "    kick off(call) all the neuros in this layer\n",
        "    \"\"\"\n",
        "    outs = [neuro(inputs) for neuro in self.neuros]\n",
        "    return outs\n",
        "\n",
        "  def parameters(self):\n",
        "    return [p for n in self.neuros for p in n.parameters()]\n",
        "\n",
        "class MLP(Module):\n",
        "  \"\"\"\n",
        "  Multi layer perceptron, f.e.\n",
        "             neuro_11     neuro_21\n",
        "  inputs     neuro_12     neuro_22   ...\n",
        "               ...          ...\n",
        "  ----------------------------------\n",
        "  a network needs to know the # of input, # of layer and # of neuro per layer.\n",
        "\n",
        "  \"\"\"\n",
        "  def __init__(self, nin, nouts):\n",
        "    \"\"\"\n",
        "    nin: number of inputs\n",
        "    nouts: a list of integer, f.e. [1,2,3]. len(nouts) - number of layers in MLP. nouts[i] - number of neuros(the number of outputs) in layer i.\n",
        "    \"\"\"\n",
        "    layers = [nin] + nouts\n",
        "    self.layers = [Layer(layers[i], layers[i+1]) for i in range(len(nouts))]\n",
        "\n",
        "  def __call__(self, inputs):\n",
        "    \"\"\"\n",
        "    kick off(call) the layers in this MLP\n",
        "    \"\"\"\n",
        "    x = inputs\n",
        "    for layer in self.layers:\n",
        "      x = layer(x)\n",
        "\n",
        "    return x  # return MLP final outputs\n",
        "\n",
        "  def parameters(self):\n",
        "    return [p for l in self.layers for p in l.parameters()]\n",
        "\n"
      ],
      "metadata": {
        "id": "A4E_rSQ4GBU0"
      },
      "execution_count": 89,
      "outputs": []
    },
    {
      "cell_type": "code",
      "source": [
        "## lets try init a 2 inputs, 1 hidden layers neuro network\n",
        "import string\n",
        "import random\n",
        "\n",
        "nint = 2\n",
        "input_labels = random.sample(string.ascii_lowercase, nint)\n",
        "inputs = [Value(random.uniform(-1, 1), label=input_labels[i]) for i in range(nint)]\n",
        "print(inputs)\n",
        "nlayers = [2]\n",
        "\n",
        "nn = MLP(len(inputs), nlayers)\n",
        "outs = nn(inputs)\n",
        "\n",
        "\n",
        "draw_dot(outs[0])"
      ],
      "metadata": {
        "colab": {
          "base_uri": "https://localhost:8080/",
          "height": 376
        },
        "id": "mBvPXaDOWymW",
        "outputId": "a766720f-fdd7-4f11-8caf-069301c1aa6b"
      },
      "execution_count": 90,
      "outputs": [
        {
          "output_type": "stream",
          "name": "stdout",
          "text": [
            "[Value(data=-0.4749878447805571, label=q), Value(data=0.28584922745581, label=t)]\n"
          ]
        },
        {
          "output_type": "execute_result",
          "data": {
            "image/svg+xml": "<?xml version=\"1.0\" encoding=\"UTF-8\" standalone=\"no\"?>\n<!DOCTYPE svg PUBLIC \"-//W3C//DTD SVG 1.1//EN\"\n \"http://www.w3.org/Graphics/SVG/1.1/DTD/svg11.dtd\">\n<!-- Generated by graphviz version 2.43.0 (0)\n -->\n<!-- Title: %3 Pages: 1 -->\n<svg width=\"1480pt\" height=\"238pt\"\n viewBox=\"0.00 0.00 1480.00 238.00\" xmlns=\"http://www.w3.org/2000/svg\" xmlns:xlink=\"http://www.w3.org/1999/xlink\">\n<g id=\"graph0\" class=\"graph\" transform=\"scale(1 1) rotate(0) translate(4 234)\">\n<title>%3</title>\n<polygon fill=\"white\" stroke=\"transparent\" points=\"-4,4 -4,-234 1476,-234 1476,4 -4,4\"/>\n<!-- 140710489791488 -->\n<g id=\"node1\" class=\"node\">\n<title>140710489791488</title>\n<polygon fill=\"none\" stroke=\"black\" points=\"1279,-82.5 1279,-118.5 1472,-118.5 1472,-82.5 1279,-82.5\"/>\n<text text-anchor=\"middle\" x=\"1289\" y=\"-96.8\" font-family=\"Times,serif\" font-size=\"14.00\"> </text>\n<polyline fill=\"none\" stroke=\"black\" points=\"1299,-82.5 1299,-118.5 \"/>\n<text text-anchor=\"middle\" x=\"1343\" y=\"-96.8\" font-family=\"Times,serif\" font-size=\"14.00\">Data &#45;0.5353</text>\n<polyline fill=\"none\" stroke=\"black\" points=\"1387,-82.5 1387,-118.5 \"/>\n<text text-anchor=\"middle\" x=\"1429.5\" y=\"-96.8\" font-family=\"Times,serif\" font-size=\"14.00\">Grad 0.0000</text>\n</g>\n<!-- 140710489791488tanh -->\n<g id=\"node2\" class=\"node\">\n<title>140710489791488tanh</title>\n<ellipse fill=\"none\" stroke=\"black\" cx=\"1216\" cy=\"-100.5\" rx=\"27\" ry=\"18\"/>\n<text text-anchor=\"middle\" x=\"1216\" y=\"-96.8\" font-family=\"Times,serif\" font-size=\"14.00\">tanh</text>\n</g>\n<!-- 140710489791488tanh&#45;&gt;140710489791488 -->\n<g id=\"edge1\" class=\"edge\">\n<title>140710489791488tanh&#45;&gt;140710489791488</title>\n<path fill=\"none\" stroke=\"black\" d=\"M1243.01,-100.5C1250.52,-100.5 1259.21,-100.5 1268.47,-100.5\"/>\n<polygon fill=\"black\" stroke=\"black\" points=\"1268.72,-104 1278.72,-100.5 1268.72,-97 1268.72,-104\"/>\n</g>\n<!-- 140710489789952 -->\n<g id=\"node3\" class=\"node\">\n<title>140710489789952</title>\n<polygon fill=\"none\" stroke=\"black\" points=\"322,-165.5 322,-201.5 515,-201.5 515,-165.5 322,-165.5\"/>\n<text text-anchor=\"middle\" x=\"332\" y=\"-179.8\" font-family=\"Times,serif\" font-size=\"14.00\"> </text>\n<polyline fill=\"none\" stroke=\"black\" points=\"342,-165.5 342,-201.5 \"/>\n<text text-anchor=\"middle\" x=\"386\" y=\"-179.8\" font-family=\"Times,serif\" font-size=\"14.00\">Data &#45;0.4572</text>\n<polyline fill=\"none\" stroke=\"black\" points=\"430,-165.5 430,-201.5 \"/>\n<text text-anchor=\"middle\" x=\"472.5\" y=\"-179.8\" font-family=\"Times,serif\" font-size=\"14.00\">Grad 0.0000</text>\n</g>\n<!-- 140710489793456+ -->\n<g id=\"node13\" class=\"node\">\n<title>140710489793456+</title>\n<ellipse fill=\"none\" stroke=\"black\" cx=\"578\" cy=\"-128.5\" rx=\"27\" ry=\"18\"/>\n<text text-anchor=\"middle\" x=\"578\" y=\"-124.8\" font-family=\"Times,serif\" font-size=\"14.00\">+</text>\n</g>\n<!-- 140710489789952&#45;&gt;140710489793456+ -->\n<g id=\"edge14\" class=\"edge\">\n<title>140710489789952&#45;&gt;140710489793456+</title>\n<path fill=\"none\" stroke=\"black\" d=\"M485.1,-165.45C495.18,-162.34 505.42,-158.98 515,-155.5 525.26,-151.78 536.25,-147.2 546.09,-142.87\"/>\n<polygon fill=\"black\" stroke=\"black\" points=\"547.77,-145.95 555.46,-138.67 544.91,-139.56 547.77,-145.95\"/>\n</g>\n<!-- 140710489789952* -->\n<g id=\"node4\" class=\"node\">\n<title>140710489789952*</title>\n<ellipse fill=\"none\" stroke=\"black\" cx=\"259\" cy=\"-183.5\" rx=\"27\" ry=\"18\"/>\n<text text-anchor=\"middle\" x=\"259\" y=\"-179.8\" font-family=\"Times,serif\" font-size=\"14.00\">*</text>\n</g>\n<!-- 140710489789952*&#45;&gt;140710489789952 -->\n<g id=\"edge2\" class=\"edge\">\n<title>140710489789952*&#45;&gt;140710489789952</title>\n<path fill=\"none\" stroke=\"black\" d=\"M286.01,-183.5C293.52,-183.5 302.21,-183.5 311.47,-183.5\"/>\n<polygon fill=\"black\" stroke=\"black\" points=\"311.72,-187 321.72,-183.5 311.72,-180 311.72,-187\"/>\n</g>\n<!-- 140710489791584 -->\n<g id=\"node5\" class=\"node\">\n<title>140710489791584</title>\n<polygon fill=\"none\" stroke=\"black\" points=\"324.5,-55.5 324.5,-91.5 512.5,-91.5 512.5,-55.5 324.5,-55.5\"/>\n<text text-anchor=\"middle\" x=\"334.5\" y=\"-69.8\" font-family=\"Times,serif\" font-size=\"14.00\">t</text>\n<polyline fill=\"none\" stroke=\"black\" points=\"344.5,-55.5 344.5,-91.5 \"/>\n<text text-anchor=\"middle\" x=\"386\" y=\"-69.8\" font-family=\"Times,serif\" font-size=\"14.00\">Data 0.2858</text>\n<polyline fill=\"none\" stroke=\"black\" points=\"427.5,-55.5 427.5,-91.5 \"/>\n<text text-anchor=\"middle\" x=\"470\" y=\"-69.8\" font-family=\"Times,serif\" font-size=\"14.00\">Grad 0.0000</text>\n</g>\n<!-- 140710489786304* -->\n<g id=\"node15\" class=\"node\">\n<title>140710489786304*</title>\n<ellipse fill=\"none\" stroke=\"black\" cx=\"578\" cy=\"-73.5\" rx=\"27\" ry=\"18\"/>\n<text text-anchor=\"middle\" x=\"578\" y=\"-69.8\" font-family=\"Times,serif\" font-size=\"14.00\">*</text>\n</g>\n<!-- 140710489791584&#45;&gt;140710489786304* -->\n<g id=\"edge10\" class=\"edge\">\n<title>140710489791584&#45;&gt;140710489786304*</title>\n<path fill=\"none\" stroke=\"black\" d=\"M512.94,-73.5C522.72,-73.5 532.19,-73.5 540.71,-73.5\"/>\n<polygon fill=\"black\" stroke=\"black\" points=\"540.95,-77 550.95,-73.5 540.95,-70 540.95,-77\"/>\n</g>\n<!-- 140710489790096 -->\n<g id=\"node6\" class=\"node\">\n<title>140710489790096</title>\n<polygon fill=\"none\" stroke=\"black\" points=\"960,-82.5 960,-118.5 1153,-118.5 1153,-82.5 960,-82.5\"/>\n<text text-anchor=\"middle\" x=\"970\" y=\"-96.8\" font-family=\"Times,serif\" font-size=\"14.00\"> </text>\n<polyline fill=\"none\" stroke=\"black\" points=\"980,-82.5 980,-118.5 \"/>\n<text text-anchor=\"middle\" x=\"1024\" y=\"-96.8\" font-family=\"Times,serif\" font-size=\"14.00\">Data &#45;0.5976</text>\n<polyline fill=\"none\" stroke=\"black\" points=\"1068,-82.5 1068,-118.5 \"/>\n<text text-anchor=\"middle\" x=\"1110.5\" y=\"-96.8\" font-family=\"Times,serif\" font-size=\"14.00\">Grad 0.0000</text>\n</g>\n<!-- 140710489790096&#45;&gt;140710489791488tanh -->\n<g id=\"edge7\" class=\"edge\">\n<title>140710489790096&#45;&gt;140710489791488tanh</title>\n<path fill=\"none\" stroke=\"black\" d=\"M1153.2,-100.5C1162.15,-100.5 1170.79,-100.5 1178.63,-100.5\"/>\n<polygon fill=\"black\" stroke=\"black\" points=\"1178.78,-104 1188.78,-100.5 1178.78,-97 1178.78,-104\"/>\n</g>\n<!-- 140710489790096+ -->\n<g id=\"node7\" class=\"node\">\n<title>140710489790096+</title>\n<ellipse fill=\"none\" stroke=\"black\" cx=\"897\" cy=\"-100.5\" rx=\"27\" ry=\"18\"/>\n<text text-anchor=\"middle\" x=\"897\" y=\"-96.8\" font-family=\"Times,serif\" font-size=\"14.00\">+</text>\n</g>\n<!-- 140710489790096+&#45;&gt;140710489790096 -->\n<g id=\"edge3\" class=\"edge\">\n<title>140710489790096+&#45;&gt;140710489790096</title>\n<path fill=\"none\" stroke=\"black\" d=\"M924.01,-100.5C931.52,-100.5 940.21,-100.5 949.47,-100.5\"/>\n<polygon fill=\"black\" stroke=\"black\" points=\"949.72,-104 959.72,-100.5 949.72,-97 949.72,-104\"/>\n</g>\n<!-- 140710489798832 -->\n<g id=\"node8\" class=\"node\">\n<title>140710489798832</title>\n<polygon fill=\"none\" stroke=\"black\" points=\"0,-193.5 0,-229.5 196,-229.5 196,-193.5 0,-193.5\"/>\n<text text-anchor=\"middle\" x=\"11.5\" y=\"-207.8\" font-family=\"Times,serif\" font-size=\"14.00\">q</text>\n<polyline fill=\"none\" stroke=\"black\" points=\"23,-193.5 23,-229.5 \"/>\n<text text-anchor=\"middle\" x=\"67\" y=\"-207.8\" font-family=\"Times,serif\" font-size=\"14.00\">Data &#45;0.4750</text>\n<polyline fill=\"none\" stroke=\"black\" points=\"111,-193.5 111,-229.5 \"/>\n<text text-anchor=\"middle\" x=\"153.5\" y=\"-207.8\" font-family=\"Times,serif\" font-size=\"14.00\">Grad 0.0000</text>\n</g>\n<!-- 140710489798832&#45;&gt;140710489789952* -->\n<g id=\"edge8\" class=\"edge\">\n<title>140710489798832&#45;&gt;140710489789952*</title>\n<path fill=\"none\" stroke=\"black\" d=\"M196.07,-194.41C205.42,-192.76 214.43,-191.17 222.55,-189.74\"/>\n<polygon fill=\"black\" stroke=\"black\" points=\"223.41,-193.15 232.65,-187.96 222.2,-186.25 223.41,-193.15\"/>\n</g>\n<!-- 140710489796816 -->\n<g id=\"node9\" class=\"node\">\n<title>140710489796816</title>\n<polygon fill=\"none\" stroke=\"black\" points=\"322,-110.5 322,-146.5 515,-146.5 515,-110.5 322,-110.5\"/>\n<text text-anchor=\"middle\" x=\"332\" y=\"-124.8\" font-family=\"Times,serif\" font-size=\"14.00\"> </text>\n<polyline fill=\"none\" stroke=\"black\" points=\"342,-110.5 342,-146.5 \"/>\n<text text-anchor=\"middle\" x=\"386\" y=\"-124.8\" font-family=\"Times,serif\" font-size=\"14.00\">Data &#45;0.0952</text>\n<polyline fill=\"none\" stroke=\"black\" points=\"430,-110.5 430,-146.5 \"/>\n<text text-anchor=\"middle\" x=\"472.5\" y=\"-124.8\" font-family=\"Times,serif\" font-size=\"14.00\">Grad 0.0000</text>\n</g>\n<!-- 140710489796816&#45;&gt;140710489793456+ -->\n<g id=\"edge6\" class=\"edge\">\n<title>140710489796816&#45;&gt;140710489793456+</title>\n<path fill=\"none\" stroke=\"black\" d=\"M515.2,-128.5C524.15,-128.5 532.79,-128.5 540.63,-128.5\"/>\n<polygon fill=\"black\" stroke=\"black\" points=\"540.78,-132 550.78,-128.5 540.78,-125 540.78,-132\"/>\n</g>\n<!-- 140710489796912 -->\n<g id=\"node10\" class=\"node\">\n<title>140710489796912</title>\n<polygon fill=\"none\" stroke=\"black\" points=\"322,-0.5 322,-36.5 515,-36.5 515,-0.5 322,-0.5\"/>\n<text text-anchor=\"middle\" x=\"332\" y=\"-14.8\" font-family=\"Times,serif\" font-size=\"14.00\"> </text>\n<polyline fill=\"none\" stroke=\"black\" points=\"342,-0.5 342,-36.5 \"/>\n<text text-anchor=\"middle\" x=\"386\" y=\"-14.8\" font-family=\"Times,serif\" font-size=\"14.00\">Data &#45;0.1579</text>\n<polyline fill=\"none\" stroke=\"black\" points=\"430,-0.5 430,-36.5 \"/>\n<text text-anchor=\"middle\" x=\"472.5\" y=\"-14.8\" font-family=\"Times,serif\" font-size=\"14.00\">Grad 0.0000</text>\n</g>\n<!-- 140710489796912&#45;&gt;140710489786304* -->\n<g id=\"edge9\" class=\"edge\">\n<title>140710489796912&#45;&gt;140710489786304*</title>\n<path fill=\"none\" stroke=\"black\" d=\"M487.98,-36.52C497.13,-39.32 506.34,-42.34 515,-45.5 525.51,-49.33 536.73,-54.17 546.7,-58.73\"/>\n<polygon fill=\"black\" stroke=\"black\" points=\"545.26,-61.92 555.81,-62.98 548.23,-55.58 545.26,-61.92\"/>\n</g>\n<!-- 140710489793360 -->\n<g id=\"node11\" class=\"node\">\n<title>140710489793360</title>\n<polygon fill=\"none\" stroke=\"black\" points=\"4,-138.5 4,-174.5 192,-174.5 192,-138.5 4,-138.5\"/>\n<text text-anchor=\"middle\" x=\"14\" y=\"-152.8\" font-family=\"Times,serif\" font-size=\"14.00\"> </text>\n<polyline fill=\"none\" stroke=\"black\" points=\"24,-138.5 24,-174.5 \"/>\n<text text-anchor=\"middle\" x=\"65.5\" y=\"-152.8\" font-family=\"Times,serif\" font-size=\"14.00\">Data 0.9626</text>\n<polyline fill=\"none\" stroke=\"black\" points=\"107,-138.5 107,-174.5 \"/>\n<text text-anchor=\"middle\" x=\"149.5\" y=\"-152.8\" font-family=\"Times,serif\" font-size=\"14.00\">Grad 0.0000</text>\n</g>\n<!-- 140710489793360&#45;&gt;140710489789952* -->\n<g id=\"edge12\" class=\"edge\">\n<title>140710489793360&#45;&gt;140710489789952*</title>\n<path fill=\"none\" stroke=\"black\" d=\"M192.41,-172.36C203,-174.16 213.25,-175.9 222.38,-177.45\"/>\n<polygon fill=\"black\" stroke=\"black\" points=\"222.09,-180.95 232.53,-179.18 223.26,-174.05 222.09,-180.95\"/>\n</g>\n<!-- 140710489793456 -->\n<g id=\"node12\" class=\"node\">\n<title>140710489793456</title>\n<polygon fill=\"none\" stroke=\"black\" points=\"641,-110.5 641,-146.5 834,-146.5 834,-110.5 641,-110.5\"/>\n<text text-anchor=\"middle\" x=\"651\" y=\"-124.8\" font-family=\"Times,serif\" font-size=\"14.00\"> </text>\n<polyline fill=\"none\" stroke=\"black\" points=\"661,-110.5 661,-146.5 \"/>\n<text text-anchor=\"middle\" x=\"705\" y=\"-124.8\" font-family=\"Times,serif\" font-size=\"14.00\">Data &#45;0.5524</text>\n<polyline fill=\"none\" stroke=\"black\" points=\"749,-110.5 749,-146.5 \"/>\n<text text-anchor=\"middle\" x=\"791.5\" y=\"-124.8\" font-family=\"Times,serif\" font-size=\"14.00\">Grad 0.0000</text>\n</g>\n<!-- 140710489793456&#45;&gt;140710489790096+ -->\n<g id=\"edge11\" class=\"edge\">\n<title>140710489793456&#45;&gt;140710489790096+</title>\n<path fill=\"none\" stroke=\"black\" d=\"M834.2,-111.49C843.52,-109.83 852.5,-108.23 860.6,-106.79\"/>\n<polygon fill=\"black\" stroke=\"black\" points=\"861.45,-110.2 870.68,-105 860.23,-103.31 861.45,-110.2\"/>\n</g>\n<!-- 140710489793456+&#45;&gt;140710489793456 -->\n<g id=\"edge4\" class=\"edge\">\n<title>140710489793456+&#45;&gt;140710489793456</title>\n<path fill=\"none\" stroke=\"black\" d=\"M605.01,-128.5C612.52,-128.5 621.21,-128.5 630.47,-128.5\"/>\n<polygon fill=\"black\" stroke=\"black\" points=\"630.72,-132 640.72,-128.5 630.72,-125 630.72,-132\"/>\n</g>\n<!-- 140710489786304 -->\n<g id=\"node14\" class=\"node\">\n<title>140710489786304</title>\n<polygon fill=\"none\" stroke=\"black\" points=\"641,-55.5 641,-91.5 834,-91.5 834,-55.5 641,-55.5\"/>\n<text text-anchor=\"middle\" x=\"651\" y=\"-69.8\" font-family=\"Times,serif\" font-size=\"14.00\"> </text>\n<polyline fill=\"none\" stroke=\"black\" points=\"661,-55.5 661,-91.5 \"/>\n<text text-anchor=\"middle\" x=\"705\" y=\"-69.8\" font-family=\"Times,serif\" font-size=\"14.00\">Data &#45;0.0451</text>\n<polyline fill=\"none\" stroke=\"black\" points=\"749,-55.5 749,-91.5 \"/>\n<text text-anchor=\"middle\" x=\"791.5\" y=\"-69.8\" font-family=\"Times,serif\" font-size=\"14.00\">Grad 0.0000</text>\n</g>\n<!-- 140710489786304&#45;&gt;140710489790096+ -->\n<g id=\"edge13\" class=\"edge\">\n<title>140710489786304&#45;&gt;140710489790096+</title>\n<path fill=\"none\" stroke=\"black\" d=\"M834.2,-89.91C843.52,-91.5 852.5,-93.04 860.6,-94.43\"/>\n<polygon fill=\"black\" stroke=\"black\" points=\"860.24,-97.92 870.68,-96.16 861.42,-91.02 860.24,-97.92\"/>\n</g>\n<!-- 140710489786304*&#45;&gt;140710489786304 -->\n<g id=\"edge5\" class=\"edge\">\n<title>140710489786304*&#45;&gt;140710489786304</title>\n<path fill=\"none\" stroke=\"black\" d=\"M605.01,-73.5C612.52,-73.5 621.21,-73.5 630.47,-73.5\"/>\n<polygon fill=\"black\" stroke=\"black\" points=\"630.72,-77 640.72,-73.5 630.72,-70 630.72,-77\"/>\n</g>\n</g>\n</svg>\n",
            "text/plain": [
              "<graphviz.graphs.Digraph at 0x7ff9b6c29240>"
            ]
          },
          "metadata": {},
          "execution_count": 90
        }
      ]
    },
    {
      "cell_type": "code",
      "source": [
        "# model params\n",
        "inputs_shape = (4, 3)  # 4 is batch size, 3 is epoch size\n",
        "layer_shape = [3, 4, 5, 6] # 4 layer, each with 3, 4, 5, 6 number of neuro"
      ],
      "metadata": {
        "id": "7LbxUeK4mD27"
      },
      "execution_count": 91,
      "outputs": []
    },
    {
      "cell_type": "code",
      "source": [
        "# Now, lets build a more complex NN and test it with multiple inputs\n",
        "def build_model(nin, layer_shape):\n",
        "  return MLP(nin=nin,\n",
        "             nouts=layer_shape)\n",
        "\n",
        "# due to generate random inputs and outputs, sometime cannot converge...\n",
        "def create_batch(batch_size, input_size, output_size):\n",
        "  inputs = [random.choices([3,-1,3,0.5,1], k=input_size) for _ in range(batch_size)]\n",
        "  ys_expected = [p for p in random.choices([1, -1], k=output_size) for _ in range(batch_size)]\n",
        "\n",
        "  return inputs, ys_expected\n",
        "\n",
        "\n",
        "def train(model, inputs, ys_expected):\n",
        "  # forward pass\n",
        "  ys_hat = [p for input in inputs for p in model(input)]\n",
        "  # loss\n",
        "  loss = sum((y_h - y_e) ** 2 for y_h, y_e in zip(ys_hat, ys_expected))\n",
        "  # zero gradients\n",
        "  model.zero_grad()\n",
        "  # backward gradient descent\n",
        "  loss.backward()\n",
        "  for p in model.parameters():\n",
        "    p.data = p.data - 0.1*p.grad\n",
        "\n",
        "\n",
        "model = build_model(inputs_shape[1], layer_shape)\n",
        "inputs, ys_expected = create_batch(inputs_shape[0], inputs_shape[1], layer_shape[-1])\n",
        "print(f\"Expected: {ys_expected[:layer_shape[-1]]}\")\n",
        "\n",
        "for _ in range(50):\n",
        "  train(model, inputs, ys_expected)\n",
        "print(model(inputs[0]))\n",
        "\n"
      ],
      "metadata": {
        "colab": {
          "base_uri": "https://localhost:8080/"
        },
        "id": "CsqUxi2U6Ij-",
        "outputId": "9bd3a712-791b-4be6-90a4-672416a64760"
      },
      "execution_count": 112,
      "outputs": [
        {
          "output_type": "stream",
          "name": "stdout",
          "text": [
            "[[3, 3, 3], [-1, -1, 3], [1, 3, 0.5], [0.5, -1, -1]]\n",
            "Expected: [-1, -1, -1, -1, 1, 1]\n",
            "[Value(data=0.060032904940682356, label=), Value(data=0.02798170941222967, label=), Value(data=0.05716545513303159, label=), Value(data=0.03363076737453407, label=), Value(data=0.9901239017092056, label=), Value(data=0.9883133857466925, label=)]\n"
          ]
        }
      ]
    }
  ]
}