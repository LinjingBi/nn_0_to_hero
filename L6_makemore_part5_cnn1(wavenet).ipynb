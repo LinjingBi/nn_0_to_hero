{
  "nbformat": 4,
  "nbformat_minor": 0,
  "metadata": {
    "colab": {
      "provenance": [],
      "authorship_tag": "ABX9TyORJktA/o2Gk4jQm3tKVgk3",
      "include_colab_link": true
    },
    "kernelspec": {
      "name": "python3",
      "display_name": "Python 3"
    },
    "language_info": {
      "name": "python"
    }
  },
  "cells": [
    {
      "cell_type": "markdown",
      "metadata": {
        "id": "view-in-github",
        "colab_type": "text"
      },
      "source": [
        "<a href=\"https://colab.research.google.com/github/LinjingBi/practice-nn-0-to-hero/blob/master/L6_makemore_part5_cnn1(wavenet).ipynb\" target=\"_parent\"><img src=\"https://colab.research.google.com/assets/colab-badge.svg\" alt=\"Open In Colab\"/></a>"
      ]
    },
    {
      "cell_type": "markdown",
      "source": [
        "In part3's MLP, we concatenate the embedded (32, 3, 10) input into (32, 30), and then pass to linear layer. Basically, we expect the network to find the pattern by analysising 3 words at once. And we seems achieved a fair loss(~2.3). But if we aim to handle more blocks/embedding dims, the parameters from later layers also need to grow, also we can add more layers, etc. But still, handle all blocks as one long 1D tensor might not be a good idea. So here, we introduce another model inspired by [Wavenet](https://arxiv.org/pdf/1609.03499),\n",
        "this model\n",
        "for our case, we need to:  \n",
        "1. raise block_size to 8\n",
        "2. During the flatten, we try to only concatenate 2 letters at a time, f.e. it was (32, 80), now is (32, 4, 20)...\n",
        "3. and we continue to do this for the input of every linear hidden layer.\n",
        "\n",
        "Our network now looks like:\n",
        "\n",
        "embedding layer -> flatten layer -> linear layer -> batch norm -> tanh -> flatten layer -> linear layer -> batch norm -> tanh -> flatten layer -> linear layer -> batch norm -> tanh -> output layer."
      ],
      "metadata": {
        "id": "DlYr3402L2AJ"
      }
    },
    {
      "cell_type": "code",
      "execution_count": 1,
      "metadata": {
        "id": "txbTL_9IJSqn"
      },
      "outputs": [],
      "source": [
        "import torch\n",
        "import torch.nn.functional as F\n",
        "import matplotlib.pyplot as plt # for making figures\n",
        "%matplotlib inline"
      ]
    },
    {
      "cell_type": "code",
      "source": [
        "# download the names.txt file from github\n",
        "!wget https://raw.githubusercontent.com/karpathy/makemore/master/names.txt"
      ],
      "metadata": {
        "colab": {
          "base_uri": "https://localhost:8080/"
        },
        "id": "j4Nd6mN5aaIj",
        "outputId": "25f714a1-8561-43cf-c18f-8f8a8005efa8"
      },
      "execution_count": 2,
      "outputs": [
        {
          "output_type": "stream",
          "name": "stdout",
          "text": [
            "--2024-07-31 14:05:12--  https://raw.githubusercontent.com/karpathy/makemore/master/names.txt\n",
            "Resolving raw.githubusercontent.com (raw.githubusercontent.com)... 185.199.108.133, 185.199.109.133, 185.199.110.133, ...\n",
            "Connecting to raw.githubusercontent.com (raw.githubusercontent.com)|185.199.108.133|:443... connected.\n",
            "HTTP request sent, awaiting response... 200 OK\n",
            "Length: 228145 (223K) [text/plain]\n",
            "Saving to: ‘names.txt’\n",
            "\n",
            "\rnames.txt             0%[                    ]       0  --.-KB/s               \rnames.txt           100%[===================>] 222.80K  --.-KB/s    in 0.02s   \n",
            "\n",
            "2024-07-31 14:05:12 (9.33 MB/s) - ‘names.txt’ saved [228145/228145]\n",
            "\n"
          ]
        }
      ]
    },
    {
      "cell_type": "code",
      "source": [
        "with open ('names.txt') as f:\n",
        "  names = f.read().splitlines()\n",
        "\n",
        "chars = sorted(set(\"\".join(names)))\n",
        "stoi = {s: i+1 for i, s in enumerate(chars)}\n",
        "stoi['.'] = 0\n",
        "itos = {i: s for s, i in stoi.items()}\n",
        "vocab_size = len(stoi)\n",
        "print(vocab_size)\n"
      ],
      "metadata": {
        "colab": {
          "base_uri": "https://localhost:8080/"
        },
        "id": "WCoP-6kDajYM",
        "outputId": "924fb212-7fee-4887-adb0-5d5628a6275c"
      },
      "execution_count": 3,
      "outputs": [
        {
          "output_type": "stream",
          "name": "stdout",
          "text": [
            "27\n"
          ]
        }
      ]
    },
    {
      "cell_type": "code",
      "source": [
        "import random\n",
        "random.seed(42)\n",
        "random.shuffle(names)"
      ],
      "metadata": {
        "id": "r_avXAuTvcqL"
      },
      "execution_count": 4,
      "outputs": []
    },
    {
      "cell_type": "code",
      "source": [
        "block_size = 8\n",
        "def build_dataset(words):\n",
        "  X, Y = [], []\n",
        "  for word in words:\n",
        "    word = word + '.'\n",
        "    context = [0] * block_size\n",
        "    for l in word:\n",
        "      x = stoi[l]\n",
        "      X.append(context)\n",
        "      Y.append(x)\n",
        "      context = context[1:] + [x]\n",
        "\n",
        "  return torch.tensor(X), torch.tensor(Y)\n",
        "\n",
        "n1 = int(0.8 * len(names))\n",
        "n2 = int(0.9 * len(names))\n",
        "\n",
        "Xtr, Ytr = build_dataset(names[:n1])\n",
        "Xdev, Ydev = build_dataset(names[n1:n2])\n",
        "Xte, Yte = build_dataset(names[n2:])\n",
        "print(Xtr.shape, Ytr.shape)\n",
        "print(Xdev.shape, Ydev.shape)\n",
        "print(Xte.shape, Yte.shape)"
      ],
      "metadata": {
        "colab": {
          "base_uri": "https://localhost:8080/"
        },
        "id": "LO3K8D6AxN-q",
        "outputId": "4dd121c3-afe4-4ff1-8132-722dbc023f99"
      },
      "execution_count": 5,
      "outputs": [
        {
          "output_type": "stream",
          "name": "stdout",
          "text": [
            "torch.Size([182625, 8]) torch.Size([182625])\n",
            "torch.Size([22655, 8]) torch.Size([22655])\n",
            "torch.Size([22866, 8]) torch.Size([22866])\n"
          ]
        }
      ]
    },
    {
      "cell_type": "code",
      "source": [
        "for x, y in zip(Xtr[:25], Ytr[:25]):\n",
        "  print(\"\".join(itos[i] for i in x.tolist()) + '---->' + itos[y.item()])"
      ],
      "metadata": {
        "colab": {
          "base_uri": "https://localhost:8080/"
        },
        "collapsed": true,
        "id": "Hf6HvuHMzuYQ",
        "outputId": "81b679b7-3e9e-488c-defe-99a769694b8d"
      },
      "execution_count": 6,
      "outputs": [
        {
          "output_type": "stream",
          "name": "stdout",
          "text": [
            "........---->y\n",
            ".......y---->u\n",
            "......yu---->h\n",
            ".....yuh---->e\n",
            "....yuhe---->n\n",
            "...yuhen---->g\n",
            "..yuheng---->.\n",
            "........---->d\n",
            ".......d---->i\n",
            "......di---->o\n",
            ".....dio---->n\n",
            "....dion---->d\n",
            "...diond---->r\n",
            "..diondr---->e\n",
            ".diondre---->.\n",
            "........---->x\n",
            ".......x---->a\n",
            "......xa---->v\n",
            ".....xav---->i\n",
            "....xavi---->e\n",
            "...xavie---->n\n",
            "..xavien---->.\n",
            "........---->j\n",
            ".......j---->o\n",
            "......jo---->r\n"
          ]
        }
      ]
    },
    {
      "cell_type": "code",
      "source": [
        "# --------------------------------------------------Layer\n",
        "class Linear:\n",
        "  def __init__(self, fan_in, fan_out, bias=True):\n",
        "    self.weight = torch.randn((fan_in, fan_out)) / fan_in ** 0.5  # kaiming init\n",
        "    self.bias = torch.randn(fan_out) if bias else None\n",
        "\n",
        "  def __call__(self, x):\n",
        "    self.out = x @ self.weight\n",
        "    if self.bias is not None:\n",
        "      self.out += self.bias\n",
        "    return self.out\n",
        "\n",
        "  def parameters(self):\n",
        "    return [self.weight, self.bias] if self.bias is not None else [self.weight]\n",
        "\n",
        "class BatchNorm1d:\n",
        "  def __init__(self, dim, eps=1e-5, momentum=0.1):\n",
        "    self.eps = eps\n",
        "    self.momentum = momentum\n",
        "    self.training = True\n",
        "    # --------------------------\n",
        "    self.running_mean = torch.zeros(dim)\n",
        "    self.running_var = torch.ones(dim)\n",
        "    # --------------------------\n",
        "    self.gamma = torch.ones(dim)\n",
        "    self.beta = torch.zeros(dim)\n",
        "\n",
        "  def __call__(self, x):\n",
        "    if self.training:\n",
        "      if x.ndim == 2:   # was 2D from lecture 4\n",
        "        dim = 0\n",
        "      elif x.ndim == 3:  # now to support our wavenet model, bn needs to handle 3D input.\n",
        "        dim = (0,1)  # but we are still interested in the mean and var of all last dim\n",
        "      xmean = x.mean(dim, keepdim=True)\n",
        "      xvar = x.var(dim, keepdim=True)\n",
        "    else:\n",
        "      xmean = self.running_mean\n",
        "      xvar = self.running_var\n",
        "    xhat = (x-xmean) / torch.sqrt(xvar+self.eps)\n",
        "    self.out = self.gamma * xhat + self.beta\n",
        "    # update running mean and var for later inference in momentum manner\n",
        "    with torch.no_grad():\n",
        "      self.running_mean = (1-self.momentum)*self.running_mean + self.momentum*xmean\n",
        "      self.running_var = (1-self.momentum)*self.running_var + self.momentum*xvar\n",
        "    return self.out\n",
        "\n",
        "  def parameters(self):\n",
        "    return [self.gamma, self.beta]\n",
        "\n",
        "\n",
        "class Tanh:\n",
        "  def __call__(self, x):\n",
        "    self.out = torch.tanh(x)\n",
        "    return self.out\n",
        "\n",
        "  def parameters(self):\n",
        "    return []\n",
        "\n",
        "\n",
        "class Embedding:\n",
        "  def __init__(self, num_embeddings, embedding_dim):\n",
        "    self.weight = torch.randn((num_embeddings, embedding_dim))\n",
        "  def __call__(self, x):\n",
        "    self.out = self.weight[x]\n",
        "    return self.out\n",
        "  def parameters(self):\n",
        "    return [self.weight]\n",
        "\n",
        "class FlattenConsecutive:\n",
        "  def __init__(self, n):\n",
        "    self.n = n\n",
        "\n",
        "  def __call__(self, x):\n",
        "    B, T, C = x.shape\n",
        "    x = x.view(B, T//self.n, self.n*C)\n",
        "    if x.shape[1] == 1:\n",
        "      x = x.squeeze(1)\n",
        "    self.out = x\n",
        "    return self.out\n",
        "\n",
        "  def parameters(self):\n",
        "    return []\n",
        "\n",
        "# ---------------------------------------Model(container for layers)\n",
        "class Sequential:\n",
        "  def __init__(self, layers):\n",
        "    self.layers = layers\n",
        "  def __call__(self, x):\n",
        "    for layer in self.layers:\n",
        "      x = layer(x)\n",
        "    self.out = x\n",
        "    return self.out\n",
        "  def parameters(self):\n",
        "    return [p for layer in self.layers for p in layer.parameters()]\n"
      ],
      "metadata": {
        "id": "CtzF4XMv0ozH"
      },
      "execution_count": 65,
      "outputs": []
    },
    {
      "cell_type": "code",
      "source": [
        "torch.manual_seed(48)  #  make sure the reproducability of all the random numbers generated by torch"
      ],
      "metadata": {
        "colab": {
          "base_uri": "https://localhost:8080/"
        },
        "id": "QcfbIwVFCQbL",
        "outputId": "24413ad8-eecb-4965-a89f-70353cb1b239"
      },
      "execution_count": 66,
      "outputs": [
        {
          "output_type": "execute_result",
          "data": {
            "text/plain": [
              "<torch._C.Generator at 0x7ea3041a8510>"
            ]
          },
          "metadata": {},
          "execution_count": 66
        }
      ]
    },
    {
      "cell_type": "code",
      "source": [
        "# init model parameters\n",
        "emb_dim = 24\n",
        "n_hidden = 128\n",
        "model = Sequential([\n",
        "    Embedding(vocab_size, emb_dim),\n",
        "    FlattenConsecutive(2), Linear(emb_dim*2, n_hidden, bias=False), BatchNorm1d(n_hidden), Tanh(),\n",
        "    FlattenConsecutive(2), Linear(n_hidden*2, n_hidden, bias=False), BatchNorm1d(n_hidden), Tanh(),\n",
        "    FlattenConsecutive(2), Linear(n_hidden*2, n_hidden, bias=False), BatchNorm1d(n_hidden), Tanh(),\n",
        "    Linear(n_hidden, vocab_size)\n",
        "])\n",
        "\n",
        "# parameter init\n",
        "with torch.no_grad():\n",
        "  for layer in model.layers[:-1]:\n",
        "    if isinstance(layer, Linear):\n",
        "      layer.weight *= 3/5\n",
        "    model.layers[-1].weight *= 0.1  # last layer make less confident\n",
        "\n",
        "parameters = model.parameters()\n",
        "for p in parameters:\n",
        "  p.requires_grad = True\n",
        "\n",
        "print(sum(p.nelement() for p in parameters))\n"
      ],
      "metadata": {
        "colab": {
          "base_uri": "https://localhost:8080/"
        },
        "id": "CKwDWIepDoXr",
        "outputId": "198f103e-84b7-4b17-ed07-48c239c764cb"
      },
      "execution_count": 67,
      "outputs": [
        {
          "output_type": "stream",
          "name": "stdout",
          "text": [
            "76579\n"
          ]
        }
      ]
    },
    {
      "cell_type": "code",
      "source": [
        "# start training\n",
        "import tqdm\n",
        "\n",
        "max_steps = 200000\n",
        "batch_size = 32\n",
        "lossi = []\n",
        "\n",
        "for i in tqdm.tqdm(range(max_steps)):\n",
        "  idx = torch.randint(0, Xtr.shape[0], (batch_size,))\n",
        "  X, Y = Xtr[idx], Ytr[idx]\n",
        "\n",
        "  logits = model(X)\n",
        "  loss = F.cross_entropy(logits, Y)\n",
        "\n",
        "  for p in parameters:\n",
        "    p.grad = None\n",
        "  loss.backward()\n",
        "\n",
        "  lr = 0.1 if i < 100000 else 0.01\n",
        "  for p in parameters:\n",
        "    p.data += -lr*p.grad\n",
        "\n",
        "  lossi.append(loss.log10().item())"
      ],
      "metadata": {
        "colab": {
          "base_uri": "https://localhost:8080/"
        },
        "id": "6ifj9n0nIFGW",
        "outputId": "b7f11087-cf24-48b3-c585-4b4b31ea1ba4"
      },
      "execution_count": 68,
      "outputs": [
        {
          "output_type": "stream",
          "name": "stderr",
          "text": [
            "100%|██████████| 200000/200000 [13:22<00:00, 249.15it/s]\n"
          ]
        }
      ]
    },
    {
      "cell_type": "code",
      "source": [
        "plt.plot(torch.tensor(lossi).view(-1, 1000).mean(1, keepdim=False))"
      ],
      "metadata": {
        "colab": {
          "base_uri": "https://localhost:8080/",
          "height": 448
        },
        "id": "cwYpLnwIKJCv",
        "outputId": "4d09a3a1-e217-46e4-87cb-c94f73a339e7"
      },
      "execution_count": 69,
      "outputs": [
        {
          "output_type": "execute_result",
          "data": {
            "text/plain": [
              "[<matplotlib.lines.Line2D at 0x7ea230822800>]"
            ]
          },
          "metadata": {},
          "execution_count": 69
        },
        {
          "output_type": "display_data",
          "data": {
            "text/plain": [
              "<Figure size 640x480 with 1 Axes>"
            ],
            "image/png": "[encoded data removed]"
          },
          "metadata": {}
        }
      ]
    },
    {
      "cell_type": "code",
      "source": [
        "# turn off training mode in BN layers, so that we can switch to running_mean and running_var\n",
        "for layer in model.layers:\n",
        "  if isinstance(layer, BatchNorm1d):\n",
        "    layer.training = False"
      ],
      "metadata": {
        "id": "0aZi1BNWLQoG"
      },
      "execution_count": 70,
      "outputs": []
    },
    {
      "cell_type": "code",
      "source": [
        "# evaluate the loss\n",
        "@torch.no_grad() # this decorator disables gradient tracking inside pytorch\n",
        "def split_loss(split):\n",
        "  x,y = {\n",
        "    'train': (Xtr, Ytr),\n",
        "    'val': (Xdev, Ydev),\n",
        "    'test': (Xte, Yte),\n",
        "  }[split]\n",
        "  logits = model(x)\n",
        "  loss = F.cross_entropy(logits, y)\n",
        "  print(split, loss.item())\n",
        "\n",
        "split_loss('train')\n",
        "split_loss('val')"
      ],
      "metadata": {
        "colab": {
          "base_uri": "https://localhost:8080/"
        },
        "id": "5XPWgsLKL1e4",
        "outputId": "0b3045a6-fc40-4ce7-978a-2ccd900474de"
      },
      "execution_count": 71,
      "outputs": [
        {
          "output_type": "stream",
          "name": "stdout",
          "text": [
            "train 1.7878137826919556\n",
            "val 1.988742470741272\n"
          ]
        }
      ]
    },
    {
      "cell_type": "code",
      "source": [
        "# loss with gain(3/5) multiplied to weights from linear layers\n",
        "# train 1.7878137826919556\n",
        "# val 1.988742470741272\n",
        "\n",
        "# loss without gain(3/5) multiplied to weights from linear layers\n",
        "# train 1.7846077680587769\n",
        "# val 1.9947363138198853"
      ],
      "metadata": {
        "id": "LRQhGAL3PBjp"
      },
      "execution_count": null,
      "outputs": []
    },
    {
      "cell_type": "code",
      "source": [
        "# sample from the model\n",
        "num = 20\n",
        "for i in range(num):\n",
        "  name = ''\n",
        "  context = [0]*block_size\n",
        "  while True:\n",
        "    logits = model(torch.tensor([context]))  # (1,27)\n",
        "    nxt = torch.multinomial(logits.softmax(dim=1), num_samples=1).item()\n",
        "    name += itos[nxt]\n",
        "    if nxt == 0:\n",
        "      break\n",
        "    context = context[1:] + [nxt]\n",
        "  print(name)"
      ],
      "metadata": {
        "colab": {
          "base_uri": "https://localhost:8080/"
        },
        "id": "TI4sqptIMxP1",
        "outputId": "a3f7085a-2cbf-42e3-c976-958526732b85"
      },
      "execution_count": 39,
      "outputs": [
        {
          "output_type": "stream",
          "name": "stdout",
          "text": [
            "calza.\n",
            "breylo.\n",
            "naralyn.\n",
            "emilo.\n",
            "abelland.\n",
            "person.\n",
            "andrine.\n",
            "joyanna.\n",
            "fynnter.\n",
            "hudaisy.\n",
            "jaskell.\n",
            "stoney.\n",
            "moyid.\n",
            "tiacy.\n",
            "azadey.\n",
            "shelby.\n",
            "abim.\n",
            "yuvika.\n",
            "michalli.\n",
            "lakeelynn.\n"
          ]
        }
      ]
    },
    {
      "cell_type": "markdown",
      "source": [
        "Few words about the relationship with CNN:  \n",
        "\n",
        "........ --> d  \n",
        ".......d --> i  \n",
        "......di --> o  \n",
        ".....dio --> n  \n",
        "....dion --> d  \n",
        "...diond --> r  \n",
        "..diondr --> e  \n",
        ".diondre --> .  \n",
        "\n",
        "\"sliding window\"  \n",
        "\n",
        "\"convolution is a \"for loop\" allows us to forward Linear layers efficiently over space\" -- Andrej\n",
        "\n"
      ],
      "metadata": {
        "id": "WBXjjlcBPhtb"
      }
    }
  ]
}