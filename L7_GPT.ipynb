{
  "nbformat": 4,
  "nbformat_minor": 0,
  "metadata": {
    "colab": {
      "provenance": [],
      "gpuType": "T4",
      "authorship_tag": "ABX9TyMhdhTd8mhGDhTsxz6+lIhg",
      "include_colab_link": true
    },
    "kernelspec": {
      "name": "python3",
      "display_name": "Python 3"
    },
    "language_info": {
      "name": "python"
    },
    "accelerator": "GPU"
  },
  "cells": [
    {
      "cell_type": "markdown",
      "metadata": {
        "id": "view-in-github",
        "colab_type": "text"
      },
      "source": [
        "<a href=\"https://colab.research.google.com/github/LinjingBi/practice-nn-0-to-hero/blob/master/L7_GPT.ipynb\" target=\"_parent\"><img src=\"https://colab.research.google.com/assets/colab-badge.svg\" alt=\"Open In Colab\"/></a>"
      ]
    },
    {
      "cell_type": "code",
      "execution_count": 8,
      "metadata": {
        "id": "wYX4s7jH3p7E"
      },
      "outputs": [],
      "source": [
        "import torch\n",
        "import torch.nn as nn\n",
        "from torch.nn import functional as F\n",
        "import matplotlib.pyplot as plt # for making figures\n",
        "%matplotlib inline"
      ]
    },
    {
      "cell_type": "code",
      "source": [
        "\"\"\"\n",
        "This is a decoder only transformer model(https://arxiv.org/pdf/1706.03762):\n",
        "\n",
        "  token embedding layer\n",
        "\n",
        "  position embedding layer\n",
        "\n",
        "  num * block model\n",
        "    layer norm\n",
        "    multihead self attention\n",
        "      head head head ...(in parallel, not sequence)\n",
        "      concatenate head_size*head\n",
        "      projection\n",
        "    residual\n",
        "    layer norm\n",
        "    feed forward\n",
        "    residual\n",
        "\n",
        "  layer norm layer\n",
        "\n",
        "  linear layer\n",
        "\n",
        "  softmax layer\n",
        "\n",
        "\"\"\"\n"
      ],
      "metadata": {
        "id": "BopIUx0_BP03"
      },
      "execution_count": null,
      "outputs": []
    },
    {
      "cell_type": "code",
      "source": [
        "!wget https://raw.githubusercontent.com/karpathy/char-rnn/master/data/tinyshakespeare/input.txt\n"
      ],
      "metadata": {
        "colab": {
          "base_uri": "https://localhost:8080/"
        },
        "id": "VWgv_p6iDgnj",
        "outputId": "4369aaaa-6230-4156-b9af-42a8c41570ed"
      },
      "execution_count": 10,
      "outputs": [
        {
          "output_type": "stream",
          "name": "stdout",
          "text": [
            "--2024-08-04 06:50:41--  https://raw.githubusercontent.com/karpathy/char-rnn/master/data/tinyshakespeare/input.txt\n",
            "Resolving raw.githubusercontent.com (raw.githubusercontent.com)... 185.199.108.133, 185.199.109.133, 185.199.110.133, ...\n",
            "Connecting to raw.githubusercontent.com (raw.githubusercontent.com)|185.199.108.133|:443... connected.\n",
            "HTTP request sent, awaiting response... 200 OK\n",
            "Length: 1115394 (1.1M) [text/plain]\n",
            "Saving to: ‘input.txt.1’\n",
            "\n",
            "\rinput.txt.1           0%[                    ]       0  --.-KB/s               \rinput.txt.1         100%[===================>]   1.06M  --.-KB/s    in 0.02s   \n",
            "\n",
            "2024-08-04 06:50:41 (45.8 MB/s) - ‘input.txt.1’ saved [1115394/1115394]\n",
            "\n"
          ]
        }
      ]
    },
    {
      "cell_type": "code",
      "source": [
        "device = 'cuda' if torch.cuda.is_available() else 'cpu'\n",
        "\n",
        "with open('input.txt') as f:\n",
        "  words = f.read()\n",
        "\n",
        "vocab = sorted(list(set(words)))\n",
        "vocab_size = len(vocab)\n",
        "\n",
        "# hyperparameter\n",
        "batch_size = 64\n",
        "block_size = 256\n",
        "n_embd = 384\n",
        "n_head = 6  # num of self-attention head\n",
        "n_layer = 6  # num of block(multihead+feed forward)\n",
        "dropout = 0.2\n",
        "\n",
        "learning_rate = 3e-4\n",
        "eval_interval = 500\n",
        "max_iters = 5000\n",
        "eval_iters = 500"
      ],
      "metadata": {
        "id": "Psto8FwE8dMC"
      },
      "execution_count": 11,
      "outputs": []
    },
    {
      "cell_type": "code",
      "source": [
        "# load data and create encode, decode dict\n",
        "torch.manual_seed(1337)\n",
        "stoi = {j:i for i, j in enumerate(vocab)}\n",
        "itos = {j:i for i, j in stoi.items()}\n",
        "\n",
        "encode = lambda x: [stoi[ch] for ch in x]\n",
        "decode = lambda x: ''.join(itos[i] for i in x)\n",
        "\n",
        "def get_batch(data):\n",
        "  idx = torch.randint(len(data)-block_size, (batch_size,))\n",
        "  X = torch.stack([torch.tensor(encode(data[i: i+block_size])) for i in idx])\n",
        "  Y = torch.stack([torch.tensor(encode(data[i+1: i+block_size+1])) for i in idx])\n",
        "  X, Y = X.to(device), Y.to(device)  # X.shape (batch_size, block_size) Y.shape (batch_size, block_size)\n",
        "  return X, Y\n",
        "\n",
        "@torch.no_grad()\n",
        "def estimate_loss():\n",
        "    out = {}\n",
        "    model.eval()\n",
        "    for split in ['train', 'val']:\n",
        "        losses = torch.zeros(eval_iters)\n",
        "        for k in range(eval_iters):\n",
        "            X, Y = get_batch(data_dict[split])\n",
        "            logits, loss = model(X, Y)\n",
        "            losses[k] = loss.item()\n",
        "        out[split] = losses.mean()\n",
        "    model.train()\n",
        "    return out\n",
        "\n",
        "n1 = int(0.9*len(words))\n",
        "train_data = words[:n1]  # 90% training\n",
        "val_data = words[n1:]  # 10% validation\n",
        "data_dict = {\n",
        "    'train': train_data,\n",
        "    'val': val_data\n",
        "}\n"
      ],
      "metadata": {
        "id": "aT8r31m5D0m5"
      },
      "execution_count": 12,
      "outputs": []
    },
    {
      "cell_type": "code",
      "source": [
        "torch.manual_seed(1337)\n",
        "class Head(nn.Module):\n",
        "  def __init__(self, n_embd, head_size):\n",
        "    super().__init__()\n",
        "    self.query = nn.Linear(n_embd, head_size) # (C, head_size)\n",
        "    self.key = nn.Linear(n_embd, head_size)  # (C, head_size)\n",
        "    self.value = nn.Linear(n_embd, head_size)  # (C, head_size)\n",
        "    # tril is a tril for building decoder - only keep the left forward and set the right forward to -inf\n",
        "    # no need to compute the gradients, aka not model's parameters\n",
        "    # so self.register_buffer is a buffer for such tensor\n",
        "    self.register_buffer('tril', torch.tril(torch.ones(block_size, block_size)))  # (T, T)\n",
        "\n",
        "    self.dropout = nn.Dropout(dropout)\n",
        "\n",
        "  def forward(self, x):\n",
        "\n",
        "    B, T, C = x.shape\n",
        "    query = self.query(x)  # (B, T, C) @ (C, head_size) -> (B, T, head_size)\n",
        "    key = self.key(x)  # (B, T, C) @ (C, head_size) -> (B, T, head_size)\n",
        "    value = self.value(x)  # (B, T, C) @ (C, head_size) -> (B, T, head_size)\n",
        "\n",
        "\n",
        "    weights = query @ key.transpose(-2, -1) /  key.shape[-1]**0.5  # (B, T, T) apply scaled dot-product attention for softmax to have uniform-liked probs at least in initialization.\n",
        "    # with mask, it is a decoder - chars in one block can only talk to chars before them\n",
        "    # without mask, it is a encoder - all the chars in one block can talk to each other\n",
        "    # we are using decoder here, as we need to decode the next word using previous chars\n",
        "    weights = weights.masked_fill(self.tril[:T, :T] == 0, float('-inf'))  # (B, T, T)\n",
        "    weights = F.softmax(weights, dim=-1)  # (B, T, T)\n",
        "    weights = self.dropout(weights)\n",
        "    out = weights @ value  # (B, T, T) @ (B, T, head_size) -> (B, T, head_size)\n",
        "\n",
        "    return out\n",
        "\n",
        "class MultiHeadAttention(nn.Module):\n",
        "  def __init__(self, head_num, head_size):\n",
        "    super().__init__()\n",
        "    # use ModuleList not Sequential is because heads can run in parallel\n",
        "    # not necessary in sequence. ModuleList allows you to customize the forward behavior\n",
        "    C = head_num * head_size\n",
        "    self.heads = nn.ModuleList([Head(C, head_size) for _ in range(head_num)])\n",
        "    self.proj = nn.Linear(C, n_embd)\n",
        "\n",
        "    self.dropout = nn.Dropout(dropout)\n",
        "\n",
        "  def forward(self, x):\n",
        "    out = torch.cat([h(x) for h in self.heads], dim=-1)  # (B, T, head_num*head_size)\n",
        "    out = self.proj(out)  # (B, T, C)\n",
        "    out = self.dropout(out)\n",
        "\n",
        "    return out\n",
        "\n",
        "\n",
        "class FeedForward(nn.Module):\n",
        "  def __init__(self, n_embd):\n",
        "    super().__init__()\n",
        "    self.feed = nn.Sequential(\n",
        "        nn.Linear(n_embd, 4*n_embd),  # 4 times comes from the paper(dmodel 512, dff 2048)\n",
        "        nn.ReLU(),\n",
        "        nn.Linear(4*n_embd, n_embd),\n",
        "        nn.Dropout(dropout),\n",
        "    )\n",
        "\n",
        "  def forward(self, x):\n",
        "    return self.feed(x)\n",
        "\n",
        "class Block(nn.Module):\n",
        "  def __init__(self, n_embd, n_head):\n",
        "    super().__init__()\n",
        "    head_size = n_embd // n_head\n",
        "    self.sa = MultiHeadAttention(n_head, head_size)\n",
        "    self.ffwd = FeedForward(n_embd)\n",
        "    self.ln1 = nn.LayerNorm(n_embd)  # normalize multihead input\n",
        "    self.ln2 = nn.LayerNorm(n_embd)  # normalize feed forward input\n",
        "\n",
        "  def forward(self, x):\n",
        "    x = x + self.sa(self.ln1(x))  # residual\n",
        "    x = x + self.ffwd(self.ln2(x))  # residual\n",
        "    return x\n",
        "\n",
        "\n",
        "class GPTLanguageModel(nn.Module):\n",
        "  def __init__(self):\n",
        "    super().__init__()\n",
        "    self.token_embedding_table = nn.Embedding(vocab_size, n_embd)\n",
        "    self.position_embedding_table = nn.Embedding(block_size, n_embd)\n",
        "    self.blocks = nn.Sequential(*[Block(n_embd, n_head) for _ in range(n_layer)])\n",
        "    self.ln_f = nn.LayerNorm(n_embd)\n",
        "    self.lm_head = nn.Linear(n_embd, vocab_size)\n",
        "\n",
        "    # Andrej: better init, not covered in the original GPT video, but important, will cover in followup video\n",
        "    self.apply(self._init_weights)\n",
        "\n",
        "  def _init_weights(self, module):\n",
        "    if isinstance(module, nn.Linear):\n",
        "        torch.nn.init.normal_(module.weight, mean=0.0, std=0.02)\n",
        "        if module.bias is not None:\n",
        "            torch.nn.init.zeros_(module.bias)\n",
        "    elif isinstance(module, nn.Embedding):\n",
        "        torch.nn.init.normal_(module.weight, mean=0.0, std=0.02)\n",
        "\n",
        "\n",
        "  def forward(self, x, target=None):\n",
        "    temb = self.token_embedding_table(x)  # (B,T,C)\n",
        "    pemb = self.position_embedding_table(torch.arange(0, block_size, device=device))  # (T,C)\n",
        "    x = temb + pemb  # (B, T, C)\n",
        "    x = self.blocks(x)  # (B, T, C)\n",
        "    x = self.ln_f(x)  # (B, T, C)\n",
        "    out = self.lm_head(x)  # (B, T, vocab_size)\n",
        "\n",
        "    if target is None:\n",
        "      loss = None\n",
        "    else:\n",
        "      B, T, C = out.shape\n",
        "      logits = out.view(B*T, C)\n",
        "      # print(logits)\n",
        "      targets = target.view(B*T)\n",
        "      loss = F.cross_entropy(logits, targets)\n",
        "    return out, loss\n",
        "\n",
        "  def generate(self, idx, max_new_tokens):\n",
        "    for _ in range(max_new_tokens):\n",
        "      idx = idx[:,-block_size:]  # (B, T) only need last block_size of chars, because we are pending new char after each call to self.generate\n",
        "      logits, _ = self(idx)\n",
        "      logits = logits[:, -1]  # (B, C)\n",
        "      probs = F.softmax(logits, dim=-1)  # (B, C)\n",
        "      id_nxt = torch.multinomial(probs, num_samples=1)  # (B, 1)\n",
        "      idx = torch.cat((idx, id_nxt), dim=1)  # (B, T+1)\n",
        "    return idx\n",
        "\n",
        "\n"
      ],
      "metadata": {
        "id": "HyMqceHUGpvW"
      },
      "execution_count": 30,
      "outputs": []
    },
    {
      "cell_type": "code",
      "source": [
        "# training\n",
        "model = GPTLanguageModel()\n",
        "m = model.to(device)\n",
        "optimizer = torch.optim.AdamW(model.parameters(), lr=learning_rate)\n",
        "\n",
        "\n",
        "for iter in range(max_iters):\n",
        "# every once in a while evaluate the loss on train and val sets\n",
        "  if iter % eval_interval == 0 or iter == max_iters - 1:\n",
        "      losses = estimate_loss()\n",
        "      print(f\"step {iter}: train loss {losses['train']:.4f}, val loss {losses['val']:.4f}\")\n",
        "\n",
        "  X, Y = get_batch(train_data)\n",
        "  # forward pass\n",
        "  _, loss = m(X, Y)\n",
        "  optimizer.zero_grad(set_to_none=True)\n",
        "  loss.backward()\n",
        "  optimizer.step()\n",
        "  # break\n",
        "\n"
      ],
      "metadata": {
        "colab": {
          "base_uri": "https://localhost:8080/"
        },
        "id": "OeRC1PGjGdl3",
        "outputId": "5bcae674-b674-4888-97fa-b42213842714"
      },
      "execution_count": 31,
      "outputs": [
        {
          "output_type": "stream",
          "name": "stdout",
          "text": [
            "step 0: train loss 4.2742, val loss 4.2774\n",
            "step 500: train loss 1.7115, val loss 1.8845\n",
            "step 1000: train loss 1.3834, val loss 1.6089\n",
            "step 1500: train loss 1.2598, val loss 1.5306\n",
            "step 2000: train loss 1.1861, val loss 1.4942\n",
            "step 2500: train loss 1.1232, val loss 1.4915\n",
            "step 3000: train loss 1.0644, val loss 1.4872\n",
            "step 3500: train loss 1.0124, val loss 1.5037\n",
            "step 4000: train loss 0.9605, val loss 1.5145\n",
            "step 4500: train loss 0.9098, val loss 1.5374\n",
            "step 4999: train loss 0.8581, val loss 1.5598\n"
          ]
        }
      ]
    },
    {
      "cell_type": "markdown",
      "source": [
        "overfitting, hmmm"
      ],
      "metadata": {
        "id": "LY9dJCGWhZiM"
      }
    },
    {
      "cell_type": "code",
      "source": [
        "# sample\n",
        "idx = torch.tensor([[0]*256], device=device)\n",
        "max_new_tokens=1000\n",
        "print(decode(m.generate(idx, max_new_tokens)[0].tolist()))"
      ],
      "metadata": {
        "colab": {
          "base_uri": "https://localhost:8080/"
        },
        "id": "a8ns1EaONCdb",
        "outputId": "c7bbdf79-ebe2-42e0-88bd-b2b00530d6e4"
      },
      "execution_count": 35,
      "outputs": [
        {
          "output_type": "stream",
          "name": "stdout",
          "text": [
            "tleman\n",
            "Which the air work of your fathers. To a afflicts:\n",
            "It is always you, how might your thieflen your honoest,\n",
            "How rong you must not perused soundly?\n",
            "\n",
            "PETRUCHIO:\n",
            "You are not that, next danger: let out all, go cause;\n",
            "The all answer strikes you not deeds y\n"
          ]
        }
      ]
    }
  ]
}